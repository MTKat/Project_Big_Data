{
 "cells": [
  {
   "cell_type": "markdown",
   "metadata": {
    "deletable": false,
    "editable": false,
    "nbgrader": {
     "cell_type": "markdown",
     "checksum": "42cd53c08ec072bcf7b7bbafdb4c1c6b",
     "grade": false,
     "grade_id": "intro",
     "locked": true,
     "schema_version": 3,
     "solution": false,
     "task": false
    }
   },
   "source": [
    "# Assignment 1\n",
    "The goal of this assignment is to make you familiar with Python's syntax, data types, and file I/O. This assignment is divided into twelve exercises.\n",
    "\n",
    "We assume that the folder that you work in has the following structure.\n",
    "<code>\n",
    "assignment01.ipynb\n",
    "hue_upload.csv\n",
    "hue_upload2.csv\n",
    "data/dist_matrix.txt\n",
    "data/draughts.txt\n",
    "data/draughts2.txt\n",
    "data/textfile1.txt\n",
    "data/textfile2.txt\n",
    "</code>\n",
    "\n",
    "The files hue `upload.csv` and `hue upload2.csv` are two files in the same format, that have been collected over different time periods. Each line contains a line number, a user id, an event string, and a data field, separated by semicolons (;) and enclosed by double quotes (\")."
   ]
  },
  {
   "cell_type": "code",
   "execution_count": null,
   "metadata": {
    "deletable": false,
    "editable": false,
    "nbgrader": {
     "cell_type": "code",
     "checksum": "9e940bdeb8285e3e3550c3190f91addb",
     "grade": false,
     "grade_id": "initialize",
     "locked": true,
     "schema_version": 3,
     "solution": false,
     "task": false
    }
   },
   "outputs": [],
   "source": [
    "import pandas as pd\n",
    "import scipy\n",
    "import re\n",
    "\n",
    "pd.options.display.max_rows = 20"
   ]
  },
  {
   "cell_type": "markdown",
   "metadata": {
    "deletable": false,
    "editable": false,
    "nbgrader": {
     "cell_type": "markdown",
     "checksum": "6220ddaccb9b241d32f5cb781ed2c8db",
     "grade": false,
     "grade_id": "Q1-def",
     "locked": true,
     "schema_version": 3,
     "solution": false,
     "task": false
    }
   },
   "source": [
    "## Exercise 1 (5 points)\n",
    "Write a Python function takes combines several files into a single file. The function should take as input a list of filenames and the name of the output file."
   ]
  },
  {
   "cell_type": "code",
   "execution_count": null,
   "metadata": {
    "deletable": false,
    "nbgrader": {
     "cell_type": "code",
     "checksum": "ff08880e3ff0a04280837d104288c6f1",
     "grade": false,
     "grade_id": "Q1-code",
     "locked": false,
     "schema_version": 3,
     "solution": true,
     "task": false
    }
   },
   "outputs": [],
   "source": [
    "def concatenate_files(input_files, output_file):\n",
    "# YOUR CODE HERE\n",
    "\n",
    "# YOUR CODE ENDS HERE"
   ]
  },
  {
   "cell_type": "code",
   "execution_count": null,
   "metadata": {
    "deletable": false,
    "editable": false,
    "nbgrader": {
     "cell_type": "code",
     "checksum": "f0af221e4b60e3f0ecced40fcc7783eb",
     "grade": true,
     "grade_id": "Q1-answer",
     "locked": true,
     "points": 5,
     "schema_version": 3,
     "solution": false,
     "task": false
    }
   },
   "outputs": [],
   "source": [
    "filenames = ['hue_upload.csv', 'hue_upload2.csv']\n",
    "concatenate_files(filenames, 'hue_combined.csv')\n"
   ]
  },
  {
   "cell_type": "markdown",
   "metadata": {
    "deletable": false,
    "editable": false,
    "nbgrader": {
     "cell_type": "markdown",
     "checksum": "907109110a6cbf31659597e90d0fd953",
     "grade": false,
     "grade_id": "Q2-def",
     "locked": true,
     "schema_version": 3,
     "solution": false,
     "task": false
    }
   },
   "source": [
    "## Exercise 2 (5 points) \n",
    "Write a Python function reads a file and removes all double quote (\") characters and the first field of each row, and stores the result into a new file. The function should take as input the name of the input file and the name of the output file."
   ]
  },
  {
   "cell_type": "code",
   "execution_count": null,
   "metadata": {
    "deletable": false,
    "nbgrader": {
     "cell_type": "code",
     "checksum": "2d511d8065453d06e093740a2e78f06c",
     "grade": false,
     "grade_id": "Q2-code",
     "locked": false,
     "schema_version": 3,
     "solution": true,
     "task": false
    }
   },
   "outputs": [],
   "source": [
    "def clean_file(input_file, output_file):\n",
    "# YOUR CODE HERE\n",
    "\n",
    "# YOUR CODE ENDS HERE"
   ]
  },
  {
   "cell_type": "code",
   "execution_count": null,
   "metadata": {
    "deletable": false,
    "editable": false,
    "nbgrader": {
     "cell_type": "code",
     "checksum": "2a4d151db3acf1143cc7e4f84a3dd9c8",
     "grade": true,
     "grade_id": "Q2-answer",
     "locked": true,
     "points": 5,
     "schema_version": 3,
     "solution": false,
     "task": false
    }
   },
   "outputs": [],
   "source": [
    "clean_file('hue_combined.csv', 'hue_combined_cleaned.csv')\n"
   ]
  },
  {
   "cell_type": "markdown",
   "metadata": {
    "deletable": false,
    "editable": false,
    "nbgrader": {
     "cell_type": "markdown",
     "checksum": "ae1f8ab0d059c096c1c5ce9d7bebf0f3",
     "grade": false,
     "grade_id": "Q3-def",
     "locked": true,
     "schema_version": 3,
     "solution": false,
     "task": false
    }
   },
   "source": [
    "## Exercise 3 (5 points) \n",
    "Write a Python function that removes the duplicate lines for a file, and stores the output in a new file. The function should take as input the name of the input file and the name of the output file."
   ]
  },
  {
   "cell_type": "code",
   "execution_count": null,
   "metadata": {
    "deletable": false,
    "nbgrader": {
     "cell_type": "code",
     "checksum": "94dcf83ac0b6b5cbea1245baec6b8970",
     "grade": false,
     "grade_id": "Q3-code",
     "locked": false,
     "schema_version": 3,
     "solution": true,
     "task": false
    }
   },
   "outputs": [],
   "source": [
    "def drop_duplicates_in_file(input_file, output_file):\n",
    "# YOUR CODE HERE\n",
    "\n",
    "# YOUR CODE ENDS HERE"
   ]
  },
  {
   "cell_type": "code",
   "execution_count": null,
   "metadata": {
    "deletable": false,
    "editable": false,
    "nbgrader": {
     "cell_type": "code",
     "checksum": "221401e3ba654d65bb50ab0cfa451c2c",
     "grade": true,
     "grade_id": "Q3-answer",
     "locked": true,
     "points": 5,
     "schema_version": 3,
     "solution": false,
     "task": false
    }
   },
   "outputs": [],
   "source": [
    "drop_duplicates_in_file('hue_combined_cleaned.csv', 'hue.csv')\n"
   ]
  },
  {
   "cell_type": "markdown",
   "metadata": {
    "deletable": false,
    "editable": false,
    "nbgrader": {
     "cell_type": "markdown",
     "checksum": "ae05fcd8388e44cfcbb7cec20dd1e7f8",
     "grade": false,
     "grade_id": "input_prep",
     "locked": true,
     "schema_version": 3,
     "solution": false,
     "task": false
    }
   },
   "source": [
    "### Python Exercises 4-8\n",
    "Exercises 4-8 take `hue.csv` as input. To the three columns of `hue.csv`, we assign the following labels for the  index: `user_id`, `event_string`, and `data_field`, respectively. We read in the data, and assign it to the variable `hue_data`. "
   ]
  },
  {
   "cell_type": "code",
   "execution_count": null,
   "metadata": {
    "deletable": false,
    "editable": false,
    "nbgrader": {
     "cell_type": "code",
     "checksum": "1bc4ed21614eb41470a04e7b904b857c",
     "grade": false,
     "grade_id": "data_prep",
     "locked": true,
     "schema_version": 3,
     "solution": false,
     "task": false
    }
   },
   "outputs": [],
   "source": [
    "hue_data = pd.read_csv('hue.csv', header=None, sep=';')\n",
    "hue_data.columns = ['user_id', 'event_string', 'data_field']\n",
    "hue_data.head()"
   ]
  },
  {
   "cell_type": "markdown",
   "metadata": {
    "deletable": false,
    "editable": false,
    "nbgrader": {
     "cell_type": "markdown",
     "checksum": "0fcb49b1f76cd281d1acc1c823b63f52",
     "grade": false,
     "grade_id": "Q4-def",
     "locked": true,
     "schema_version": 3,
     "solution": false,
     "task": false
    }
   },
   "source": [
    "## Exercise 4 (5 points) \n",
    "Calculate the number of lamp change events, and assign it to the variable `num_lamp_change`."
   ]
  },
  {
   "cell_type": "code",
   "execution_count": null,
   "metadata": {
    "deletable": false,
    "nbgrader": {
     "cell_type": "code",
     "checksum": "2a16c1397d5ed1f249f2e047c1439e28",
     "grade": false,
     "grade_id": "Q4-code",
     "locked": false,
     "schema_version": 3,
     "solution": true,
     "task": false
    }
   },
   "outputs": [],
   "source": [
    "# YOUR CODE HERE\n",
    "num_lamp_change =\n",
    "# YOUR CODE ENDS HERE"
   ]
  },
  {
   "cell_type": "code",
   "execution_count": null,
   "metadata": {
    "deletable": false,
    "editable": false,
    "nbgrader": {
     "cell_type": "code",
     "checksum": "c0214f30ce525f138df8d29bd47a0c6a",
     "grade": true,
     "grade_id": "Q4-answer",
     "locked": true,
     "points": 5,
     "schema_version": 3,
     "solution": false,
     "task": false
    }
   },
   "outputs": [],
   "source": [
    "print(num_lamp_change)\n"
   ]
  },
  {
   "cell_type": "markdown",
   "metadata": {
    "deletable": false,
    "editable": false,
    "nbgrader": {
     "cell_type": "markdown",
     "checksum": "c506d1bc3c182f19191f5c8f011a2228",
     "grade": false,
     "grade_id": "Q5-def",
     "locked": true,
     "schema_version": 3,
     "solution": false,
     "task": false
    }
   },
   "source": [
    "## Exercise 5 (5 points) \n",
    "Return a single-column data frame with the unique values of adherence importance, and assign the result to the variable `df_adherence_importance`."
   ]
  },
  {
   "cell_type": "code",
   "execution_count": null,
   "metadata": {
    "deletable": false,
    "nbgrader": {
     "cell_type": "code",
     "checksum": "51602cd6de49fc963a6e623943ff8f4b",
     "grade": false,
     "grade_id": "Q5-code",
     "locked": false,
     "schema_version": 3,
     "solution": true,
     "task": false
    }
   },
   "outputs": [],
   "source": [
    "# YOUR CODE HERE\n",
    "df_adherence_importance =\n",
    "# YOUR CODE ENDS HERE"
   ]
  },
  {
   "cell_type": "code",
   "execution_count": null,
   "metadata": {
    "deletable": false,
    "editable": false,
    "nbgrader": {
     "cell_type": "code",
     "checksum": "3dbc9b09f43d6f3eb6c6120f56d6873f",
     "grade": true,
     "grade_id": "Q5-answer",
     "locked": true,
     "points": 5,
     "schema_version": 3,
     "solution": false,
     "task": false
    }
   },
   "outputs": [],
   "source": [
    "display(df_adherence_importance)\n"
   ]
  },
  {
   "cell_type": "markdown",
   "metadata": {
    "deletable": false,
    "editable": false,
    "nbgrader": {
     "cell_type": "markdown",
     "checksum": "fef94d46f3ab0aa09fb7f36f8babf5f3",
     "grade": false,
     "grade_id": "Q6-def",
     "locked": true,
     "schema_version": 3,
     "solution": false,
     "task": false
    }
   },
   "source": [
    "## Exercise 6 (5 points) \n",
    "Return a single-column data frame with the number of data points (lines) for each user id. Assign the result to the variable `num_per_user`, and make sure that the `user_id` is used as index. "
   ]
  },
  {
   "cell_type": "code",
   "execution_count": null,
   "metadata": {
    "deletable": false,
    "nbgrader": {
     "cell_type": "code",
     "checksum": "0bc60d522990feae929af5d74604089e",
     "grade": false,
     "grade_id": "Q6-code",
     "locked": false,
     "schema_version": 3,
     "solution": true,
     "task": false
    }
   },
   "outputs": [],
   "source": [
    "# YOUR CODE HERE\n",
    "num_per_user =\n",
    "# YOUR CODE ENDS HERE"
   ]
  },
  {
   "cell_type": "code",
   "execution_count": null,
   "metadata": {
    "deletable": false,
    "editable": false,
    "nbgrader": {
     "cell_type": "code",
     "checksum": "5432914f1eeae8beb31dce754b1faddb",
     "grade": true,
     "grade_id": "Q6-answer",
     "locked": true,
     "points": 5,
     "schema_version": 3,
     "solution": false,
     "task": false
    }
   },
   "outputs": [],
   "source": [
    "display(num_per_user)\n"
   ]
  },
  {
   "cell_type": "markdown",
   "metadata": {
    "deletable": false,
    "editable": false,
    "nbgrader": {
     "cell_type": "markdown",
     "checksum": "6fb06a3fd2fec175a46302c9bc260827",
     "grade": false,
     "grade_id": "Q7-def",
     "locked": true,
     "schema_version": 3,
     "solution": false,
     "task": false
    }
   },
   "source": [
    "## Exercise 7 (10 points) \n",
    "Return a single-column data frame with all unique strings that come up in the column `event_string` of `data_hue`. Assign the result to the variable `unique_events`.\n",
    "\n",
    "Note that a string consists of one or more words joined by an underscore, a word being one or more alphabetic characters: lamp change, rise reason, mei, but not 15 mei or 2015 risetime. "
   ]
  },
  {
   "cell_type": "code",
   "execution_count": null,
   "metadata": {
    "deletable": false,
    "nbgrader": {
     "cell_type": "code",
     "checksum": "72aa744c012502c23ea11680e4e8d97e",
     "grade": false,
     "grade_id": "Q7-code",
     "locked": false,
     "schema_version": 3,
     "solution": true,
     "task": false
    }
   },
   "outputs": [],
   "source": [
    "# YOUR CODE HERE\n",
    "unique_events =\n",
    "# YOUR CODE ENDS HERE"
   ]
  },
  {
   "cell_type": "code",
   "execution_count": null,
   "metadata": {
    "deletable": false,
    "editable": false,
    "nbgrader": {
     "cell_type": "code",
     "checksum": "16a87fbe80218ed8d56d66b55f24cf54",
     "grade": true,
     "grade_id": "Q7-answer",
     "locked": true,
     "points": 10,
     "schema_version": 3,
     "solution": false,
     "task": false
    }
   },
   "outputs": [],
   "source": [
    "display(unique_events)\n"
   ]
  },
  {
   "cell_type": "markdown",
   "metadata": {
    "deletable": false,
    "editable": false,
    "nbgrader": {
     "cell_type": "markdown",
     "checksum": "6ad5e6ea77e2e08315ab7448f4c35e06",
     "grade": false,
     "grade_id": "Q8-def",
     "locked": true,
     "schema_version": 3,
     "solution": false,
     "task": false
    }
   },
   "source": [
    "## Exercise 8 (10 points) \n",
    "Return a single-column dataframe with the number of lamp change events for each relevant day. Use as index the substring of the `event_string` value, e.g., '01_augustus_2015'. Assign the result to the variable `num_lamp_changes_per_day`."
   ]
  },
  {
   "cell_type": "code",
   "execution_count": null,
   "metadata": {
    "deletable": false,
    "nbgrader": {
     "cell_type": "code",
     "checksum": "a272f1f497565daf412a66c630b8945f",
     "grade": false,
     "grade_id": "Q8-code",
     "locked": false,
     "schema_version": 3,
     "solution": true,
     "task": false
    }
   },
   "outputs": [],
   "source": [
    "# YOUR CODE HERE\n",
    "num_lamp_changes_per_day =\n",
    "# YOUR CODE ENDS HERE"
   ]
  },
  {
   "cell_type": "code",
   "execution_count": null,
   "metadata": {
    "deletable": false,
    "editable": false,
    "nbgrader": {
     "cell_type": "code",
     "checksum": "d42fa673ca6c91f8afb835da3b00106e",
     "grade": true,
     "grade_id": "Q8-answer",
     "locked": true,
     "points": 10,
     "schema_version": 3,
     "solution": false,
     "task": false
    }
   },
   "outputs": [],
   "source": [
    "display(num_lamp_changes_per_day)\n"
   ]
  },
  {
   "cell_type": "markdown",
   "metadata": {
    "deletable": false,
    "editable": false,
    "nbgrader": {
     "cell_type": "markdown",
     "checksum": "42d09f7118d6bb0e0d7bc9547da61f5d",
     "grade": false,
     "grade_id": "intermezzo",
     "locked": true,
     "schema_version": 3,
     "solution": false,
     "task": false
    }
   },
   "source": [
    "### Python exercises 9-12\n",
    "To get hands-on familiarity with Python, you are strongly advised to work through a Python tutorial (see Canvas module: Introduction to Python). Python has an excellent reference web site, with the documentation for all its language constructs and library APIs. Use this for all your Python work!"
   ]
  },
  {
   "cell_type": "markdown",
   "metadata": {
    "deletable": false,
    "editable": false,
    "nbgrader": {
     "cell_type": "markdown",
     "checksum": "3b7c6adab3aa525955f63118143b1ebe",
     "grade": false,
     "grade_id": "Q9-def",
     "locked": true,
     "schema_version": 3,
     "solution": false,
     "task": false
    }
   },
   "source": [
    "## Exercise 9 (10 points) \n",
    "A number is composed of digits. For example, 512 is composed of a 5, a 1, and a 2. Write a Python function that accepts keyboard input (stdin). If the user does not enter a number or if the number is smaller than 10, the script has to keep asking for input. When a number is detected, the script should compute and output the number of digits, the number of distinct digits, the largest sum of two consecutive digits (Dutch: opeenvolgende cijfers), and the sum of its distinct prime factors. For the number 5112, the program should give the following output:\n",
    "<code>\n",
    "4\n",
    "3\n",
    "6\n",
    "76\n",
    "</code>\n",
    "Your implementation should print the solution to the screen. The function does not have to return anything."
   ]
  },
  {
   "cell_type": "code",
   "execution_count": null,
   "metadata": {
    "deletable": false,
    "nbgrader": {
     "cell_type": "code",
     "checksum": "c81422567e0ba5769a82c860fb940afb",
     "grade": false,
     "grade_id": "Q9-code",
     "locked": false,
     "schema_version": 3,
     "solution": true,
     "task": false
    }
   },
   "outputs": [],
   "source": [
    "# YOUR CODE HERE\n",
    "def exercise09():\n",
    "\n",
    "# YOUR CODE ENDS HERE"
   ]
  },
  {
   "cell_type": "code",
   "execution_count": null,
   "metadata": {
    "deletable": false,
    "nbgrader": {
     "cell_type": "code",
     "checksum": "5c9e1b8d93305873a760a1a338a4e3eb",
     "grade": true,
     "grade_id": "Q9-answer",
     "locked": false,
     "points": 10,
     "schema_version": 3,
     "solution": true,
     "task": false
    }
   },
   "outputs": [],
   "source": [
    "exercise09()"
   ]
  },
  {
   "cell_type": "markdown",
   "metadata": {
    "deletable": false,
    "editable": false,
    "nbgrader": {
     "cell_type": "markdown",
     "checksum": "a7c86ffd450d2ecb5bc5d8def39c337a",
     "grade": false,
     "grade_id": "Q10-def",
     "locked": true,
     "schema_version": 3,
     "solution": false,
     "task": false
    }
   },
   "source": [
    "## Exercise 10 (10 points) \n",
    "Write a function that reads two text files, each of which has one word per line in lowercase, checks which words occur in the first le but not in the second file, and writes those words to a third file in alphabetical order separated by a newline character. You may assume that both text files comfortably fit in memory, and that the files do not contain duplicates.\n",
    "\n",
    "Your implementation should output the solution to a file. The function does not have to return anything or print anything to the screen."
   ]
  },
  {
   "cell_type": "code",
   "execution_count": null,
   "metadata": {
    "deletable": false,
    "nbgrader": {
     "cell_type": "code",
     "checksum": "b4d0ebe2e847289be00cdabfdfa13f34",
     "grade": false,
     "grade_id": "Q10-code",
     "locked": false,
     "schema_version": 3,
     "solution": true,
     "task": false
    }
   },
   "outputs": [],
   "source": [
    "# YOUR CODE HERE\n",
    "def exercise10(filename1,filename2,outfilename):\n",
    "\n",
    "# YOUR CODE ENDS HERE"
   ]
  },
  {
   "cell_type": "code",
   "execution_count": null,
   "metadata": {
    "deletable": false,
    "editable": false,
    "nbgrader": {
     "cell_type": "code",
     "checksum": "95cdf117812e998ebe515115909110ba",
     "grade": true,
     "grade_id": "Q10-answer",
     "locked": true,
     "points": 10,
     "schema_version": 3,
     "solution": false,
     "task": false
    }
   },
   "outputs": [],
   "source": [
    "exercise10('data/textfile1.txt', 'data/textfile2.txt', 'data/textfile3.txt')\n"
   ]
  },
  {
   "cell_type": "markdown",
   "metadata": {
    "deletable": false,
    "editable": false,
    "nbgrader": {
     "cell_type": "markdown",
     "checksum": "e25d903229567bc1c78b6e46b2b75a41",
     "grade": false,
     "grade_id": "Q11-def",
     "locked": true,
     "schema_version": 3,
     "solution": false,
     "task": false
    }
   },
   "source": [
    "## Exercise 11 (15 points) \n",
    "Write a function that reads an integer distance matrix from a text file. An example is the following input file:\n",
    "<code>\n",
    "0 1 \\-\n",
    "2 0 4\n",
    "\\- 4 0\n",
    "</code>\n",
    "which contains, e.g., the information that the distance from point 0 to point 1 is 1, while the distance from point 1 to point 0 is 2. A dash means that no direct connection exists (which can be implemented as float('inf'), so that the connection will not get used). Implement Dijkstra's Algorithm to find the shortest path from point 0 to the last point (2 in this case). \n",
    "\n",
    "You may not use a package that features Dijkstra's Algorithm. For the matrix shown above, the shortest distance is 5. Your implementation should return the length of the shortest path, and assign it to the variable `minimum_distance`."
   ]
  },
  {
   "cell_type": "code",
   "execution_count": null,
   "metadata": {
    "deletable": false,
    "nbgrader": {
     "cell_type": "code",
     "checksum": "171ec2e08a5460b71ca76e366836a9b6",
     "grade": false,
     "grade_id": "Q11-code",
     "locked": false,
     "schema_version": 3,
     "solution": true,
     "task": false
    }
   },
   "outputs": [],
   "source": [
    "# YOUR CODE HERE\n",
    "def exercise11(filename):\n",
    "\n",
    "# YOUR CODE ENDS HERE"
   ]
  },
  {
   "cell_type": "code",
   "execution_count": null,
   "metadata": {
    "deletable": false,
    "editable": false,
    "nbgrader": {
     "cell_type": "code",
     "checksum": "60dcfb4626cb42e54a0eb89be362c1a5",
     "grade": true,
     "grade_id": "Q11-answer",
     "locked": true,
     "points": 15,
     "schema_version": 3,
     "solution": false,
     "task": false
    }
   },
   "outputs": [],
   "source": [
    "minimum_distance = exercise11('data/dist_matrix.txt')\n",
    "print(minimum_distance)\n"
   ]
  },
  {
   "cell_type": "markdown",
   "metadata": {
    "deletable": false,
    "editable": false,
    "nbgrader": {
     "cell_type": "markdown",
     "checksum": "e4b18ec71a28584d86bb384121eab1c9",
     "grade": false,
     "grade_id": "Q12-def",
     "locked": true,
     "schema_version": 3,
     "solution": false,
     "task": false
    }
   },
   "source": [
    "## Exercise 12 (15 points) \n",
    "International draughts (Dutch: dammen) is a board game played on a 10x10 field with a chessboard pattern. For this assignment, you have to read a file that contains the state of a game as it is being played, and provide a graphical representation. For this, only a small subset of the rules is relevant:\n",
    "<ul>\n",
    "    <li>There are two players, white and black.</li>\n",
    "    <li>A 10x10 coordinate system is imposed on the board such that (1,1) is the left lower square for the white player and (10,1) is the right lower square for the white player.</li>\n",
    "    <li>The board is oriented such that (1,1) is a dark square.</li>\n",
    "    <li>Pieces can only be placed on dark squares, i.e., on (x,y) for which |x-y| = 0 (mod 2).</li>\n",
    "    <li>There are two types of pieces: regular pieces and promoted pieces.</li>\n",
    "</ul>\n",
    "\n",
    "The starting position will be supplied in an ASCII text file. Its lines contain the positions of (crowned) pieces. A valid line contains a coordinate, followed by a tab, followed by the type (w, W, b or B for a white piece, white promoted piece, black piece, or black promoted piece, respectively). Invalid lines should be ignored, as should\n",
    "any characters after the type. An example is shown below:\n",
    "<code>\n",
    "w\n",
    "(5,5) w the predator\n",
    "(6,6) b the prey\n",
    "(this is an example)\n",
    "</code>\n",
    "\n",
    "Write a function that takes the name and path of a text le as its argument, reads the text le, and prints a graphical representation of the board on the screen. The representation should use underscores and vertical bars as follows (notice that this example is a 3x3 board instead of a full board):\n",
    "\n",
    "<code>\n",
    " ___ ___ ___\n",
    "|   |   |   |\n",
    "|   |   |   |\n",
    "|___|___|___|\n",
    "|   |   |   |\n",
    "|   |   |   |\n",
    "|___|___|___|\n",
    "|   |   |   |\n",
    "|   |   |   |\n",
    "|___|___|___|\n",
    "</code>\n",
    "\n",
    "Note that each side consists of either three underscores or three vertical bars. The center of each square should contain the character w, W, b or B to indicate the piece (if any).\n",
    "\n",
    "Your implementation should print the output to the screen. The function does not need to return anything. For this assignment, you need to verify whether |x-y| = 0 (mod 2), in other words, |x-y| is an even number. The template provides some invalid lines as examples. The line with coordinate (3,1) is invalid since it starts with a space, and the line with coordinate (3,5) is invalid since no tab separates the coordinate\n",
    "from the color.\n"
   ]
  },
  {
   "cell_type": "code",
   "execution_count": null,
   "metadata": {
    "deletable": false,
    "nbgrader": {
     "cell_type": "code",
     "checksum": "92bb0fd6a876252d5dbe96f68adb1e1a",
     "grade": false,
     "grade_id": "Q12-code",
     "locked": false,
     "schema_version": 3,
     "solution": true,
     "task": false
    }
   },
   "outputs": [],
   "source": [
    "# YOUR CODE HERE\n",
    "def exercise12(filename):\n",
    "\n",
    "# YOUR CODE ENDS HERE"
   ]
  },
  {
   "cell_type": "code",
   "execution_count": null,
   "metadata": {
    "deletable": false,
    "nbgrader": {
     "cell_type": "code",
     "checksum": "9942002c5d5c6dd0b7bbc3a8123bfc2c",
     "grade": true,
     "grade_id": "Q12-answer",
     "locked": false,
     "points": 15,
     "schema_version": 3,
     "solution": true,
     "task": false
    }
   },
   "outputs": [],
   "source": [
    "exercise12('data/draughts.txt')"
   ]
  }
 ],
 "metadata": {
  "kernelspec": {
   "display_name": "Python 3",
   "language": "python",
   "name": "python3"
  },
  "language_info": {
   "codemirror_mode": {
    "name": "ipython",
    "version": 3
   },
   "file_extension": ".py",
   "mimetype": "text/x-python",
   "name": "python",
   "nbconvert_exporter": "python",
   "pygments_lexer": "ipython3",
   "version": "3.7.3"
  }
 },
 "nbformat": 4,
 "nbformat_minor": 4
}
