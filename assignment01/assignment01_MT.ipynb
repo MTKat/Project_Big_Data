{
 "cells": [
  {
   "cell_type": "markdown",
   "metadata": {
    "deletable": false,
    "editable": false,
    "nbgrader": {
     "cell_type": "markdown",
     "checksum": "42cd53c08ec072bcf7b7bbafdb4c1c6b",
     "grade": false,
     "grade_id": "intro",
     "locked": true,
     "schema_version": 3,
     "solution": false,
     "task": false
    }
   },
   "source": [
    "# Assignment 1\n",
    "The goal of this assignment is to make you familiar with Python's syntax, data types, and file I/O. This assignment is divided into twelve exercises.\n",
    "\n",
    "We assume that the folder that you work in has the following structure.\n",
    "<code>\n",
    "assignment01.ipynb\n",
    "hue_upload.csv\n",
    "hue_upload2.csv\n",
    "data/dist_matrix.txt\n",
    "data/draughts.txt\n",
    "data/draughts2.txt\n",
    "data/textfile1.txt\n",
    "data/textfile2.txt\n",
    "</code>\n",
    "\n",
    "The files hue `upload.csv` and `hue upload2.csv` are two files in the same format, that have been collected over different time periods. Each line contains a line number, a user id, an event string, and a data field, separated by semicolons (;) and enclosed by double quotes (\")."
   ]
  },
  {
   "cell_type": "code",
   "execution_count": 2,
   "metadata": {
    "deletable": false,
    "editable": false,
    "nbgrader": {
     "cell_type": "code",
     "checksum": "9e940bdeb8285e3e3550c3190f91addb",
     "grade": false,
     "grade_id": "initialize",
     "locked": true,
     "schema_version": 3,
     "solution": false,
     "task": false
    }
   },
   "outputs": [],
   "source": [
    "import pandas as pd\n",
    "import scipy\n",
    "import re\n",
    "\n",
    "pd.options.display.max_rows = 20"
   ]
  },
  {
   "cell_type": "markdown",
   "metadata": {
    "deletable": false,
    "editable": false,
    "nbgrader": {
     "cell_type": "markdown",
     "checksum": "6220ddaccb9b241d32f5cb781ed2c8db",
     "grade": false,
     "grade_id": "Q1-def",
     "locked": true,
     "schema_version": 3,
     "solution": false,
     "task": false
    }
   },
   "source": [
    "## Exercise 1 (5 points)\n",
    "Write a Python function takes combines several files into a single file. The function should take as input a list of filenames and the name of the output file."
   ]
  },
  {
   "cell_type": "code",
   "execution_count": 2,
   "metadata": {
    "deletable": false,
    "nbgrader": {
     "cell_type": "code",
     "checksum": "ff08880e3ff0a04280837d104288c6f1",
     "grade": false,
     "grade_id": "Q1-code",
     "locked": false,
     "schema_version": 3,
     "solution": true,
     "task": false
    }
   },
   "outputs": [],
   "source": [
    "# Reads in column names by specifying separator - thus outputs multiple columns\n",
    "\n",
    "def separator_concatenate_files(input_files, output_file):\n",
    "# YOUR CODE HERE\n",
    "    dataframes = []\n",
    "    colnames = ['line_number', 'user_id', 'event_string', 'data_field']\n",
    "    for filename in input_files:\n",
    "        dataframes.append(pd.read_csv(filename, sep = ';', names = colnames, header = None, encoding ='utf_8'))\n",
    "        combined_df = pd.concat(dataframes)\n",
    "    return combined_df.to_csv(output_file, index = False)\n",
    "\n",
    "# YOUR CODE ENDS HERE"
   ]
  },
  {
   "cell_type": "code",
   "execution_count": 3,
   "metadata": {},
   "outputs": [],
   "source": [
    "# Reads in data as is, without separator - thus outputs 1 column\n",
    "\n",
    "def concatenate_files(input_files, output_file):\n",
    "# YOUR CODE HERE\n",
    "    dataframes = []\n",
    "    for filename in input_files:\n",
    "        dataframes.append(pd.read_csv(filename, header = None, encoding ='utf_8'))\n",
    "        combined_df = pd.concat(dataframes)\n",
    "    return combined_df.to_csv(output_file, index = False)\n",
    "\n",
    "# YOUR CODE ENDS HERE"
   ]
  },
  {
   "cell_type": "code",
   "execution_count": 5,
   "metadata": {
    "deletable": false,
    "editable": false,
    "nbgrader": {
     "cell_type": "code",
     "checksum": "f0af221e4b60e3f0ecced40fcc7783eb",
     "grade": true,
     "grade_id": "Q1-answer",
     "locked": true,
     "points": 5,
     "schema_version": 3,
     "solution": false,
     "task": false
    }
   },
   "outputs": [],
   "source": [
    "filenames = ['hue_upload.csv', 'hue_upload2.csv']\n",
    "concatenate_files(filenames, 'hue_combined.csv')\n"
   ]
  },
  {
   "cell_type": "code",
   "execution_count": 6,
   "metadata": {},
   "outputs": [],
   "source": [
    "# TEST OUTPUT\n",
    "new_output = pd.read_csv('hue_combined.csv')"
   ]
  },
  {
   "cell_type": "code",
   "execution_count": 7,
   "metadata": {},
   "outputs": [
    {
     "name": "stdout",
     "output_type": "stream",
     "text": [
      "                                                   0\n",
      "0  1;\"10\";\"lamp_change_29_mei_2015_19_08_33_984\";...\n",
      "1   2;\"10\";\"0010_31_mei_2015_bedtime_tonight\";\"2300\"\n",
      "2             3;\"10\";\"0010_31_mei_2015_fitness\";\"52\"\n",
      "3                 4;\"10\";\"morning_backup_minute\";\"0\"\n",
      "4  5;\"10\";\"lamp_change_29_mei_2015_19_08_33_942\";...\n"
     ]
    }
   ],
   "source": [
    "# READ HEAD OF TEST OUTPUT\n",
    "print(new_output.head())"
   ]
  },
  {
   "cell_type": "markdown",
   "metadata": {
    "deletable": false,
    "editable": false,
    "nbgrader": {
     "cell_type": "markdown",
     "checksum": "907109110a6cbf31659597e90d0fd953",
     "grade": false,
     "grade_id": "Q2-def",
     "locked": true,
     "schema_version": 3,
     "solution": false,
     "task": false
    }
   },
   "source": [
    "## Exercise 2 (5 points) \n",
    "Write a Python function reads a file and removes all double quote (\") characters and the first field of each row, and stores the result into a new file. The function should take as input the name of the input file and the name of the output file."
   ]
  },
  {
   "cell_type": "code",
   "execution_count": 8,
   "metadata": {
    "deletable": false,
    "nbgrader": {
     "cell_type": "code",
     "checksum": "2d511d8065453d06e093740a2e78f06c",
     "grade": false,
     "grade_id": "Q2-code",
     "locked": false,
     "schema_version": 3,
     "solution": true,
     "task": false
    }
   },
   "outputs": [],
   "source": [
    "def clean_file(input_file, output_file):\n",
    "# YOUR CODE HERE   \n",
    "    df = pd.read_csv(input_file)\n",
    "    df = df['0'].str.replace('\"', \"\").str.split(\";\", expand = True)\n",
    "    df.drop(df.columns[0],axis = 1, inplace = True)\n",
    "    return df.to_csv(output_file, index = False)\n",
    "\n",
    "# YOUR CODE ENDS HERE"
   ]
  },
  {
   "cell_type": "code",
   "execution_count": 9,
   "metadata": {
    "deletable": false,
    "editable": false,
    "nbgrader": {
     "cell_type": "code",
     "checksum": "2a4d151db3acf1143cc7e4f84a3dd9c8",
     "grade": true,
     "grade_id": "Q2-answer",
     "locked": true,
     "points": 5,
     "schema_version": 3,
     "solution": false,
     "task": false
    }
   },
   "outputs": [],
   "source": [
    "clean_file('hue_combined.csv', 'hue_combined_cleaned.csv')\n"
   ]
  },
  {
   "cell_type": "code",
   "execution_count": 10,
   "metadata": {},
   "outputs": [],
   "source": [
    "# TEST OUTPUT\n",
    "new_output = pd.read_csv('hue_combined_cleaned.csv')"
   ]
  },
  {
   "cell_type": "code",
   "execution_count": 11,
   "metadata": {},
   "outputs": [
    {
     "name": "stdout",
     "output_type": "stream",
     "text": [
      "    1                                     2     3\n",
      "0  10  lamp_change_29_mei_2015_19_08_33_984   OFF\n",
      "1  10      0010_31_mei_2015_bedtime_tonight  2300\n",
      "2  10              0010_31_mei_2015_fitness    52\n",
      "3  10                 morning_backup_minute     0\n",
      "4  10  lamp_change_29_mei_2015_19_08_33_942   OFF\n"
     ]
    }
   ],
   "source": [
    "# READ HEAD OF TEST OUTPUT\n",
    "print(new_output.head())"
   ]
  },
  {
   "cell_type": "markdown",
   "metadata": {
    "deletable": false,
    "editable": false,
    "nbgrader": {
     "cell_type": "markdown",
     "checksum": "ae1f8ab0d059c096c1c5ce9d7bebf0f3",
     "grade": false,
     "grade_id": "Q3-def",
     "locked": true,
     "schema_version": 3,
     "solution": false,
     "task": false
    }
   },
   "source": [
    "## Exercise 3 (5 points) \n",
    "Write a Python function that removes the duplicate lines for a file, and stores the output in a new file. The function should take as input the name of the input file and the name of the output file."
   ]
  },
  {
   "cell_type": "code",
   "execution_count": 12,
   "metadata": {
    "deletable": false,
    "nbgrader": {
     "cell_type": "code",
     "checksum": "94dcf83ac0b6b5cbea1245baec6b8970",
     "grade": false,
     "grade_id": "Q3-code",
     "locked": false,
     "schema_version": 3,
     "solution": true,
     "task": false
    }
   },
   "outputs": [],
   "source": [
    "def drop_duplicates_in_file(input_file, output_file):\n",
    "# YOUR CODE HERE\n",
    "    df = pd.read_csv(input_file)\n",
    "    dropped = df.drop_duplicates()\n",
    "    df = dropped[\"1\"].astype(str) +\";\"+ dropped[\"2\"] +\";\"+ dropped[\"3\"]\n",
    "    return df.to_csv(output_file, header = None, index = False)\n",
    "# YOUR CODE ENDS HERE\n"
   ]
  },
  {
   "cell_type": "code",
   "execution_count": 13,
   "metadata": {
    "deletable": false,
    "editable": false,
    "nbgrader": {
     "cell_type": "code",
     "checksum": "221401e3ba654d65bb50ab0cfa451c2c",
     "grade": true,
     "grade_id": "Q3-answer",
     "locked": true,
     "points": 5,
     "schema_version": 3,
     "solution": false,
     "task": false
    }
   },
   "outputs": [],
   "source": [
    "drop_duplicates_in_file('hue_combined_cleaned.csv', 'hue.csv')\n"
   ]
  },
  {
   "cell_type": "code",
   "execution_count": 14,
   "metadata": {},
   "outputs": [
    {
     "data": {
      "text/plain": [
       "(8332, 1)"
      ]
     },
     "execution_count": 14,
     "metadata": {},
     "output_type": "execute_result"
    }
   ],
   "source": [
    "# TEST OUTPUT\n",
    "new_output = pd.read_csv('hue.csv')\n",
    "new_output.shape"
   ]
  },
  {
   "cell_type": "code",
   "execution_count": 15,
   "metadata": {},
   "outputs": [
    {
     "name": "stdout",
     "output_type": "stream",
     "text": [
      "   10;lamp_change_29_mei_2015_19_08_33_984;OFF\n",
      "0     10;0010_31_mei_2015_bedtime_tonight;2300\n",
      "1               10;0010_31_mei_2015_fitness;52\n",
      "2                   10;morning_backup_minute;0\n",
      "3  10;lamp_change_29_mei_2015_19_08_33_942;OFF\n",
      "4                 10;is_wifi_switched_on;false\n"
     ]
    }
   ],
   "source": [
    "# READ HEAD OF TEST OUTPUT\n",
    "print(new_output.head())"
   ]
  },
  {
   "cell_type": "markdown",
   "metadata": {
    "deletable": false,
    "editable": false,
    "nbgrader": {
     "cell_type": "markdown",
     "checksum": "ae05fcd8388e44cfcbb7cec20dd1e7f8",
     "grade": false,
     "grade_id": "input_prep",
     "locked": true,
     "schema_version": 3,
     "solution": false,
     "task": false
    }
   },
   "source": [
    "### Python Exercises 4-8\n",
    "Exercises 4-8 take `hue.csv` as input. To the three columns of `hue.csv`, we assign the following labels for the  index: `user_id`, `event_string`, and `data_field`, respectively. We read in the data, and assign it to the variable `hue_data`. "
   ]
  },
  {
   "cell_type": "code",
   "execution_count": 16,
   "metadata": {
    "deletable": false,
    "editable": false,
    "nbgrader": {
     "cell_type": "code",
     "checksum": "1bc4ed21614eb41470a04e7b904b857c",
     "grade": false,
     "grade_id": "data_prep",
     "locked": true,
     "schema_version": 3,
     "solution": false,
     "task": false
    }
   },
   "outputs": [
    {
     "data": {
      "text/html": [
       "<div>\n",
       "<style scoped>\n",
       "    .dataframe tbody tr th:only-of-type {\n",
       "        vertical-align: middle;\n",
       "    }\n",
       "\n",
       "    .dataframe tbody tr th {\n",
       "        vertical-align: top;\n",
       "    }\n",
       "\n",
       "    .dataframe thead th {\n",
       "        text-align: right;\n",
       "    }\n",
       "</style>\n",
       "<table border=\"1\" class=\"dataframe\">\n",
       "  <thead>\n",
       "    <tr style=\"text-align: right;\">\n",
       "      <th></th>\n",
       "      <th>user_id</th>\n",
       "      <th>event_string</th>\n",
       "      <th>data_field</th>\n",
       "    </tr>\n",
       "  </thead>\n",
       "  <tbody>\n",
       "    <tr>\n",
       "      <th>0</th>\n",
       "      <td>10.0</td>\n",
       "      <td>lamp_change_29_mei_2015_19_08_33_984</td>\n",
       "      <td>OFF</td>\n",
       "    </tr>\n",
       "    <tr>\n",
       "      <th>1</th>\n",
       "      <td>10.0</td>\n",
       "      <td>0010_31_mei_2015_bedtime_tonight</td>\n",
       "      <td>2300</td>\n",
       "    </tr>\n",
       "    <tr>\n",
       "      <th>2</th>\n",
       "      <td>10.0</td>\n",
       "      <td>0010_31_mei_2015_fitness</td>\n",
       "      <td>52</td>\n",
       "    </tr>\n",
       "    <tr>\n",
       "      <th>3</th>\n",
       "      <td>10.0</td>\n",
       "      <td>morning_backup_minute</td>\n",
       "      <td>0</td>\n",
       "    </tr>\n",
       "    <tr>\n",
       "      <th>4</th>\n",
       "      <td>10.0</td>\n",
       "      <td>lamp_change_29_mei_2015_19_08_33_942</td>\n",
       "      <td>OFF</td>\n",
       "    </tr>\n",
       "  </tbody>\n",
       "</table>\n",
       "</div>"
      ],
      "text/plain": [
       "   user_id                          event_string data_field\n",
       "0     10.0  lamp_change_29_mei_2015_19_08_33_984        OFF\n",
       "1     10.0      0010_31_mei_2015_bedtime_tonight       2300\n",
       "2     10.0              0010_31_mei_2015_fitness         52\n",
       "3     10.0                 morning_backup_minute          0\n",
       "4     10.0  lamp_change_29_mei_2015_19_08_33_942        OFF"
      ]
     },
     "execution_count": 16,
     "metadata": {},
     "output_type": "execute_result"
    }
   ],
   "source": [
    "hue_data = pd.read_csv('hue.csv', header=None, sep=';')\n",
    "hue_data.columns = ['user_id', 'event_string', 'data_field']\n",
    "hue_data.head()"
   ]
  },
  {
   "cell_type": "markdown",
   "metadata": {
    "deletable": false,
    "editable": false,
    "nbgrader": {
     "cell_type": "markdown",
     "checksum": "0fcb49b1f76cd281d1acc1c823b63f52",
     "grade": false,
     "grade_id": "Q4-def",
     "locked": true,
     "schema_version": 3,
     "solution": false,
     "task": false
    }
   },
   "source": [
    "## Exercise 4 (5 points) \n",
    "Calculate the number of lamp change events, and assign it to the variable `num_lamp_change`."
   ]
  },
  {
   "cell_type": "code",
   "execution_count": 17,
   "metadata": {
    "deletable": false,
    "nbgrader": {
     "cell_type": "code",
     "checksum": "2a16c1397d5ed1f249f2e047c1439e28",
     "grade": false,
     "grade_id": "Q4-code",
     "locked": false,
     "schema_version": 3,
     "solution": true,
     "task": false
    }
   },
   "outputs": [],
   "source": [
    "# YOUR CODE HERE\n",
    "bool_series = hue_data[\"event_string\"].str.startswith(\"lamp_change\", na = False)\n",
    "num_lamp_change = hue_data[bool_series][\"event_string\"].count()\n",
    "# YOUR CODE ENDS HERE"
   ]
  },
  {
   "cell_type": "code",
   "execution_count": 18,
   "metadata": {
    "deletable": false,
    "editable": false,
    "nbgrader": {
     "cell_type": "code",
     "checksum": "c0214f30ce525f138df8d29bd47a0c6a",
     "grade": true,
     "grade_id": "Q4-answer",
     "locked": true,
     "points": 5,
     "schema_version": 3,
     "solution": false,
     "task": false
    }
   },
   "outputs": [
    {
     "name": "stdout",
     "output_type": "stream",
     "text": [
      "3406\n"
     ]
    }
   ],
   "source": [
    "print(num_lamp_change)\n"
   ]
  },
  {
   "cell_type": "markdown",
   "metadata": {
    "deletable": false,
    "editable": false,
    "nbgrader": {
     "cell_type": "markdown",
     "checksum": "c506d1bc3c182f19191f5c8f011a2228",
     "grade": false,
     "grade_id": "Q5-def",
     "locked": true,
     "schema_version": 3,
     "solution": false,
     "task": false
    }
   },
   "source": [
    "## Exercise 5 (5 points) \n",
    "Return a single-column data frame with the unique values of adherence importance, and assign the result to the variable `df_adherence_importance`."
   ]
  },
  {
   "cell_type": "code",
   "execution_count": 19,
   "metadata": {
    "deletable": false,
    "nbgrader": {
     "cell_type": "code",
     "checksum": "51602cd6de49fc963a6e623943ff8f4b",
     "grade": false,
     "grade_id": "Q5-code",
     "locked": false,
     "schema_version": 3,
     "solution": true,
     "task": false
    }
   },
   "outputs": [],
   "source": [
    "# YOUR CODE HERE\n",
    "bool_series = hue_data[\"event_string\"].str.contains(\"adherence_importance\", na = False)\n",
    "unique = hue_data[bool_series]['data_field'].unique()\n",
    "df_adherence_importance = pd.DataFrame(unique, columns = ['adherence_importance'])\n",
    "# YOUR CODE ENDS HERE"
   ]
  },
  {
   "cell_type": "code",
   "execution_count": 20,
   "metadata": {
    "deletable": false,
    "editable": false,
    "nbgrader": {
     "cell_type": "code",
     "checksum": "3dbc9b09f43d6f3eb6c6120f56d6873f",
     "grade": true,
     "grade_id": "Q5-answer",
     "locked": true,
     "points": 5,
     "schema_version": 3,
     "solution": false,
     "task": false
    }
   },
   "outputs": [
    {
     "data": {
      "text/html": [
       "<div>\n",
       "<style scoped>\n",
       "    .dataframe tbody tr th:only-of-type {\n",
       "        vertical-align: middle;\n",
       "    }\n",
       "\n",
       "    .dataframe tbody tr th {\n",
       "        vertical-align: top;\n",
       "    }\n",
       "\n",
       "    .dataframe thead th {\n",
       "        text-align: right;\n",
       "    }\n",
       "</style>\n",
       "<table border=\"1\" class=\"dataframe\">\n",
       "  <thead>\n",
       "    <tr style=\"text-align: right;\">\n",
       "      <th></th>\n",
       "      <th>adherence_importance</th>\n",
       "    </tr>\n",
       "  </thead>\n",
       "  <tbody>\n",
       "    <tr>\n",
       "      <th>0</th>\n",
       "      <td>100</td>\n",
       "    </tr>\n",
       "    <tr>\n",
       "      <th>1</th>\n",
       "      <td>11</td>\n",
       "    </tr>\n",
       "    <tr>\n",
       "      <th>2</th>\n",
       "      <td>78</td>\n",
       "    </tr>\n",
       "    <tr>\n",
       "      <th>3</th>\n",
       "      <td>75</td>\n",
       "    </tr>\n",
       "    <tr>\n",
       "      <th>4</th>\n",
       "      <td>34</td>\n",
       "    </tr>\n",
       "    <tr>\n",
       "      <th>...</th>\n",
       "      <td>...</td>\n",
       "    </tr>\n",
       "    <tr>\n",
       "      <th>87</th>\n",
       "      <td>90</td>\n",
       "    </tr>\n",
       "    <tr>\n",
       "      <th>88</th>\n",
       "      <td>96</td>\n",
       "    </tr>\n",
       "    <tr>\n",
       "      <th>89</th>\n",
       "      <td>86</td>\n",
       "    </tr>\n",
       "    <tr>\n",
       "      <th>90</th>\n",
       "      <td>19</td>\n",
       "    </tr>\n",
       "    <tr>\n",
       "      <th>91</th>\n",
       "      <td>77</td>\n",
       "    </tr>\n",
       "  </tbody>\n",
       "</table>\n",
       "<p>92 rows × 1 columns</p>\n",
       "</div>"
      ],
      "text/plain": [
       "   adherence_importance\n",
       "0                   100\n",
       "1                    11\n",
       "2                    78\n",
       "3                    75\n",
       "4                    34\n",
       "..                  ...\n",
       "87                   90\n",
       "88                   96\n",
       "89                   86\n",
       "90                   19\n",
       "91                   77\n",
       "\n",
       "[92 rows x 1 columns]"
      ]
     },
     "metadata": {},
     "output_type": "display_data"
    }
   ],
   "source": [
    "display(df_adherence_importance)\n"
   ]
  },
  {
   "cell_type": "markdown",
   "metadata": {
    "deletable": false,
    "editable": false,
    "nbgrader": {
     "cell_type": "markdown",
     "checksum": "fef94d46f3ab0aa09fb7f36f8babf5f3",
     "grade": false,
     "grade_id": "Q6-def",
     "locked": true,
     "schema_version": 3,
     "solution": false,
     "task": false
    }
   },
   "source": [
    "## Exercise 6 (5 points) \n",
    "Return a single-column data frame with the number of data points (lines) for each user id. Assign the result to the variable `num_per_user`, and make sure that the `user_id` is used as index. "
   ]
  },
  {
   "cell_type": "code",
   "execution_count": 21,
   "metadata": {
    "deletable": false,
    "nbgrader": {
     "cell_type": "code",
     "checksum": "0bc60d522990feae929af5d74604089e",
     "grade": false,
     "grade_id": "Q6-code",
     "locked": false,
     "schema_version": 3,
     "solution": true,
     "task": false
    }
   },
   "outputs": [],
   "source": [
    "# YOUR CODE HERE\n",
    "grouped = hue_data['user_id'].groupby(hue_data['user_id']).count()\n",
    "type(grouped)\n",
    "num_per_user = pd.DataFrame(grouped)\n",
    "# YOUR CODE ENDS HERE"
   ]
  },
  {
   "cell_type": "code",
   "execution_count": 22,
   "metadata": {
    "deletable": false,
    "editable": false,
    "nbgrader": {
     "cell_type": "code",
     "checksum": "5432914f1eeae8beb31dce754b1faddb",
     "grade": true,
     "grade_id": "Q6-answer",
     "locked": true,
     "points": 5,
     "schema_version": 3,
     "solution": false,
     "task": false
    }
   },
   "outputs": [
    {
     "data": {
      "text/html": [
       "<div>\n",
       "<style scoped>\n",
       "    .dataframe tbody tr th:only-of-type {\n",
       "        vertical-align: middle;\n",
       "    }\n",
       "\n",
       "    .dataframe tbody tr th {\n",
       "        vertical-align: top;\n",
       "    }\n",
       "\n",
       "    .dataframe thead th {\n",
       "        text-align: right;\n",
       "    }\n",
       "</style>\n",
       "<table border=\"1\" class=\"dataframe\">\n",
       "  <thead>\n",
       "    <tr style=\"text-align: right;\">\n",
       "      <th></th>\n",
       "      <th>user_id</th>\n",
       "    </tr>\n",
       "    <tr>\n",
       "      <th>user_id</th>\n",
       "      <th></th>\n",
       "    </tr>\n",
       "  </thead>\n",
       "  <tbody>\n",
       "    <tr>\n",
       "      <th>1.0</th>\n",
       "      <td>196</td>\n",
       "    </tr>\n",
       "    <tr>\n",
       "      <th>9.0</th>\n",
       "      <td>143</td>\n",
       "    </tr>\n",
       "    <tr>\n",
       "      <th>10.0</th>\n",
       "      <td>325</td>\n",
       "    </tr>\n",
       "    <tr>\n",
       "      <th>12.0</th>\n",
       "      <td>141</td>\n",
       "    </tr>\n",
       "    <tr>\n",
       "      <th>18.0</th>\n",
       "      <td>241</td>\n",
       "    </tr>\n",
       "    <tr>\n",
       "      <th>...</th>\n",
       "      <td>...</td>\n",
       "    </tr>\n",
       "    <tr>\n",
       "      <th>70.0</th>\n",
       "      <td>317</td>\n",
       "    </tr>\n",
       "    <tr>\n",
       "      <th>6789.0</th>\n",
       "      <td>40</td>\n",
       "    </tr>\n",
       "    <tr>\n",
       "      <th>9996.0</th>\n",
       "      <td>56</td>\n",
       "    </tr>\n",
       "    <tr>\n",
       "      <th>9998.0</th>\n",
       "      <td>17</td>\n",
       "    </tr>\n",
       "    <tr>\n",
       "      <th>9999.0</th>\n",
       "      <td>69</td>\n",
       "    </tr>\n",
       "  </tbody>\n",
       "</table>\n",
       "<p>36 rows × 1 columns</p>\n",
       "</div>"
      ],
      "text/plain": [
       "         user_id\n",
       "user_id         \n",
       "1.0          196\n",
       "9.0          143\n",
       "10.0         325\n",
       "12.0         141\n",
       "18.0         241\n",
       "...          ...\n",
       "70.0         317\n",
       "6789.0        40\n",
       "9996.0        56\n",
       "9998.0        17\n",
       "9999.0        69\n",
       "\n",
       "[36 rows x 1 columns]"
      ]
     },
     "metadata": {},
     "output_type": "display_data"
    }
   ],
   "source": [
    "display(num_per_user)\n"
   ]
  },
  {
   "cell_type": "markdown",
   "metadata": {
    "deletable": false,
    "editable": false,
    "nbgrader": {
     "cell_type": "markdown",
     "checksum": "6fb06a3fd2fec175a46302c9bc260827",
     "grade": false,
     "grade_id": "Q7-def",
     "locked": true,
     "schema_version": 3,
     "solution": false,
     "task": false
    }
   },
   "source": [
    "## Exercise 7 (10 points) \n",
    "Return a single-column data frame with all unique strings that come up in the column `event_string` of `data_hue`. Assign the result to the variable `unique_events`.\n",
    "\n",
    "Note that a string consists of one or more words joined by an underscore, a word being one or more alphabetic characters: lamp change, rise reason, mei, but not 15 mei or 2015 risetime. "
   ]
  },
  {
   "cell_type": "code",
   "execution_count": 155,
   "metadata": {
    "deletable": false,
    "nbgrader": {
     "cell_type": "code",
     "checksum": "72aa744c012502c23ea11680e4e8d97e",
     "grade": false,
     "grade_id": "Q7-code",
     "locked": false,
     "schema_version": 3,
     "solution": true,
     "task": false
    }
   },
   "outputs": [
    {
     "name": "stdout",
     "output_type": "stream",
     "text": [
      "['lamp', 'change', 'mei', 'bedtime', 'tonight', 'fitness', 'morning', 'backup', 'minute', 'is', 'wifi', 'switched', 'on', '', 'adherence', 'importance', 'evening', 'hour', 'first', 'run', 'type', 'rise', 'reason', 'risetime', 'start', 'experiment', 'yesterday', 'target', 'url', 'nudge', 'time', 'juni', 'nan', 'augustus', 'subject', 'key', 'info', 'event', 'error', 'september', 'oktober']\n"
     ]
    }
   ],
   "source": [
    "# NOT QUITE RIGHT - NEED TO KEEP STRINGS TOGETHER WHERE THEY ARE ORIGINALLY TOGETHER, I.E.: lamp change, rise reason etc.\n",
    "\n",
    "# YOUR CODE HERE\n",
    "event_string = hue_data[\"event_string\"].astype(str)\n",
    "event_list = []\n",
    "for line in event_string:\n",
    "    for word in line.split(\"_\"): \n",
    "        if (word.isnumeric()) == False:\n",
    "            new_string = word\n",
    "            if new_string not in event_list:\n",
    "                event_list.append(new_string)\n",
    "print(event_list)\n",
    "unique_events = pd.DataFrame(event_list,columns=['event_string'])\n",
    "# YOUR CODE ENDS HERE"
   ]
  },
  {
   "cell_type": "code",
   "execution_count": 156,
   "metadata": {
    "deletable": false,
    "editable": false,
    "nbgrader": {
     "cell_type": "code",
     "checksum": "16a87fbe80218ed8d56d66b55f24cf54",
     "grade": true,
     "grade_id": "Q7-answer",
     "locked": true,
     "points": 10,
     "schema_version": 3,
     "solution": false,
     "task": false
    },
    "scrolled": true
   },
   "outputs": [
    {
     "data": {
      "text/html": [
       "<div>\n",
       "<style scoped>\n",
       "    .dataframe tbody tr th:only-of-type {\n",
       "        vertical-align: middle;\n",
       "    }\n",
       "\n",
       "    .dataframe tbody tr th {\n",
       "        vertical-align: top;\n",
       "    }\n",
       "\n",
       "    .dataframe thead th {\n",
       "        text-align: right;\n",
       "    }\n",
       "</style>\n",
       "<table border=\"1\" class=\"dataframe\">\n",
       "  <thead>\n",
       "    <tr style=\"text-align: right;\">\n",
       "      <th></th>\n",
       "      <th>event_string</th>\n",
       "    </tr>\n",
       "  </thead>\n",
       "  <tbody>\n",
       "    <tr>\n",
       "      <th>0</th>\n",
       "      <td>lamp</td>\n",
       "    </tr>\n",
       "    <tr>\n",
       "      <th>1</th>\n",
       "      <td>change</td>\n",
       "    </tr>\n",
       "    <tr>\n",
       "      <th>2</th>\n",
       "      <td>mei</td>\n",
       "    </tr>\n",
       "    <tr>\n",
       "      <th>3</th>\n",
       "      <td>bedtime</td>\n",
       "    </tr>\n",
       "    <tr>\n",
       "      <th>4</th>\n",
       "      <td>tonight</td>\n",
       "    </tr>\n",
       "    <tr>\n",
       "      <th>...</th>\n",
       "      <td>...</td>\n",
       "    </tr>\n",
       "    <tr>\n",
       "      <th>36</th>\n",
       "      <td>info</td>\n",
       "    </tr>\n",
       "    <tr>\n",
       "      <th>37</th>\n",
       "      <td>event</td>\n",
       "    </tr>\n",
       "    <tr>\n",
       "      <th>38</th>\n",
       "      <td>error</td>\n",
       "    </tr>\n",
       "    <tr>\n",
       "      <th>39</th>\n",
       "      <td>september</td>\n",
       "    </tr>\n",
       "    <tr>\n",
       "      <th>40</th>\n",
       "      <td>oktober</td>\n",
       "    </tr>\n",
       "  </tbody>\n",
       "</table>\n",
       "<p>41 rows × 1 columns</p>\n",
       "</div>"
      ],
      "text/plain": [
       "   event_string\n",
       "0          lamp\n",
       "1        change\n",
       "2           mei\n",
       "3       bedtime\n",
       "4       tonight\n",
       "..          ...\n",
       "36         info\n",
       "37        event\n",
       "38        error\n",
       "39    september\n",
       "40      oktober\n",
       "\n",
       "[41 rows x 1 columns]"
      ]
     },
     "metadata": {},
     "output_type": "display_data"
    }
   ],
   "source": [
    "display(unique_events)\n"
   ]
  },
  {
   "cell_type": "markdown",
   "metadata": {
    "deletable": false,
    "editable": false,
    "nbgrader": {
     "cell_type": "markdown",
     "checksum": "6ad5e6ea77e2e08315ab7448f4c35e06",
     "grade": false,
     "grade_id": "Q8-def",
     "locked": true,
     "schema_version": 3,
     "solution": false,
     "task": false
    }
   },
   "source": [
    "## Exercise 8 (10 points) \n",
    "Return a single-column dataframe with the number of lamp change events for each relevant day. Use as index the substring of the `event_string` value, e.g., '01_augustus_2015'. Assign the result to the variable `num_lamp_changes_per_day`."
   ]
  },
  {
   "cell_type": "code",
   "execution_count": 157,
   "metadata": {
    "deletable": false,
    "nbgrader": {
     "cell_type": "code",
     "checksum": "a272f1f497565daf412a66c630b8945f",
     "grade": false,
     "grade_id": "Q8-code",
     "locked": false,
     "schema_version": 3,
     "solution": true,
     "task": false
    }
   },
   "outputs": [],
   "source": [
    "# YOUR CODE HERE\n",
    "bool_series = hue_data[\"event_string\"].str.startswith(\"lamp_change\", na = False)\n",
    "lamp_changes = hue_data[bool_series][\"event_string\"].str.findall(r\"\\d+_\\w+_\\d{4}\")\n",
    "lamp_changes_flatten = lamp_changes.apply(pd.Series).stack().reset_index(drop=True)\n",
    "df = pd.DataFrame(lamp_changes_flatten, columns = ['event_string'])\n",
    "grouped = df['event_string'].groupby(df['event_string']).count()\n",
    "num_lamp_changes_per_day = pd.DataFrame(grouped, columns = ['event_string'])\n",
    "# YOUR CODE ENDS HERE"
   ]
  },
  {
   "cell_type": "code",
   "execution_count": 158,
   "metadata": {
    "deletable": false,
    "editable": false,
    "nbgrader": {
     "cell_type": "code",
     "checksum": "d42fa673ca6c91f8afb835da3b00106e",
     "grade": true,
     "grade_id": "Q8-answer",
     "locked": true,
     "points": 10,
     "schema_version": 3,
     "solution": false,
     "task": false
    }
   },
   "outputs": [
    {
     "data": {
      "text/html": [
       "<div>\n",
       "<style scoped>\n",
       "    .dataframe tbody tr th:only-of-type {\n",
       "        vertical-align: middle;\n",
       "    }\n",
       "\n",
       "    .dataframe tbody tr th {\n",
       "        vertical-align: top;\n",
       "    }\n",
       "\n",
       "    .dataframe thead th {\n",
       "        text-align: right;\n",
       "    }\n",
       "</style>\n",
       "<table border=\"1\" class=\"dataframe\">\n",
       "  <thead>\n",
       "    <tr style=\"text-align: right;\">\n",
       "      <th></th>\n",
       "      <th>event_string</th>\n",
       "    </tr>\n",
       "    <tr>\n",
       "      <th>event_string</th>\n",
       "      <th></th>\n",
       "    </tr>\n",
       "  </thead>\n",
       "  <tbody>\n",
       "    <tr>\n",
       "      <th>01_augustus_2015</th>\n",
       "      <td>8</td>\n",
       "    </tr>\n",
       "    <tr>\n",
       "      <th>01_juni_2015</th>\n",
       "      <td>291</td>\n",
       "    </tr>\n",
       "    <tr>\n",
       "      <th>02_augustus_2015</th>\n",
       "      <td>11</td>\n",
       "    </tr>\n",
       "    <tr>\n",
       "      <th>02_juni_2015</th>\n",
       "      <td>122</td>\n",
       "    </tr>\n",
       "    <tr>\n",
       "      <th>02_september_2015</th>\n",
       "      <td>22</td>\n",
       "    </tr>\n",
       "    <tr>\n",
       "      <th>...</th>\n",
       "      <td>...</td>\n",
       "    </tr>\n",
       "    <tr>\n",
       "      <th>29_augustus_2015</th>\n",
       "      <td>3</td>\n",
       "    </tr>\n",
       "    <tr>\n",
       "      <th>29_mei_2015</th>\n",
       "      <td>120</td>\n",
       "    </tr>\n",
       "    <tr>\n",
       "      <th>30_augustus_2015</th>\n",
       "      <td>3</td>\n",
       "    </tr>\n",
       "    <tr>\n",
       "      <th>30_mei_2015</th>\n",
       "      <td>116</td>\n",
       "    </tr>\n",
       "    <tr>\n",
       "      <th>31_mei_2015</th>\n",
       "      <td>118</td>\n",
       "    </tr>\n",
       "  </tbody>\n",
       "</table>\n",
       "<p>65 rows × 1 columns</p>\n",
       "</div>"
      ],
      "text/plain": [
       "                   event_string\n",
       "event_string                   \n",
       "01_augustus_2015              8\n",
       "01_juni_2015                291\n",
       "02_augustus_2015             11\n",
       "02_juni_2015                122\n",
       "02_september_2015            22\n",
       "...                         ...\n",
       "29_augustus_2015              3\n",
       "29_mei_2015                 120\n",
       "30_augustus_2015              3\n",
       "30_mei_2015                 116\n",
       "31_mei_2015                 118\n",
       "\n",
       "[65 rows x 1 columns]"
      ]
     },
     "metadata": {},
     "output_type": "display_data"
    }
   ],
   "source": [
    "display(num_lamp_changes_per_day)\n"
   ]
  },
  {
   "cell_type": "markdown",
   "metadata": {
    "deletable": false,
    "editable": false,
    "nbgrader": {
     "cell_type": "markdown",
     "checksum": "42d09f7118d6bb0e0d7bc9547da61f5d",
     "grade": false,
     "grade_id": "intermezzo",
     "locked": true,
     "schema_version": 3,
     "solution": false,
     "task": false
    }
   },
   "source": [
    "### Python exercises 9-12\n",
    "To get hands-on familiarity with Python, you are strongly advised to work through a Python tutorial (see Canvas module: Introduction to Python). Python has an excellent reference web site, with the documentation for all its language constructs and library APIs. Use this for all your Python work!"
   ]
  },
  {
   "cell_type": "markdown",
   "metadata": {
    "deletable": false,
    "editable": false,
    "nbgrader": {
     "cell_type": "markdown",
     "checksum": "3b7c6adab3aa525955f63118143b1ebe",
     "grade": false,
     "grade_id": "Q9-def",
     "locked": true,
     "schema_version": 3,
     "solution": false,
     "task": false
    }
   },
   "source": [
    "## Exercise 9 (10 points) \n",
    "A number is composed of digits. For example, 512 is composed of a 5, a 1, and a 2. Write a Python function that accepts keyboard input (stdin). If the user does not enter a number or if the number is smaller than 10, the script has to keep asking for input. When a number is detected, the script should compute and output the number of digits, the number of distinct digits, the largest sum of two consecutive digits (Dutch: opeenvolgende cijfers), and the sum of its distinct prime factors. For the number 5112, the program should give the following output:\n",
    "<code>\n",
    "4\n",
    "3\n",
    "6\n",
    "76\n",
    "</code>\n",
    "Your implementation should print the solution to the screen. The function does not have to return anything."
   ]
  },
  {
   "cell_type": "code",
   "execution_count": null,
   "metadata": {
    "deletable": false,
    "nbgrader": {
     "cell_type": "code",
     "checksum": "c81422567e0ba5769a82c860fb940afb",
     "grade": false,
     "grade_id": "Q9-code",
     "locked": false,
     "schema_version": 3,
     "solution": true,
     "task": false
    }
   },
   "outputs": [],
   "source": [
    "# YOUR CODE HERE\n",
    "def exercise09():\n",
    "\n",
    "# YOUR CODE ENDS HERE"
   ]
  },
  {
   "cell_type": "code",
   "execution_count": null,
   "metadata": {
    "deletable": false,
    "nbgrader": {
     "cell_type": "code",
     "checksum": "5c9e1b8d93305873a760a1a338a4e3eb",
     "grade": true,
     "grade_id": "Q9-answer",
     "locked": false,
     "points": 10,
     "schema_version": 3,
     "solution": true,
     "task": false
    }
   },
   "outputs": [],
   "source": [
    "exercise09()"
   ]
  },
  {
   "cell_type": "markdown",
   "metadata": {
    "deletable": false,
    "editable": false,
    "nbgrader": {
     "cell_type": "markdown",
     "checksum": "a7c86ffd450d2ecb5bc5d8def39c337a",
     "grade": false,
     "grade_id": "Q10-def",
     "locked": true,
     "schema_version": 3,
     "solution": false,
     "task": false
    }
   },
   "source": [
    "## Exercise 10 (10 points) \n",
    "Write a function that reads two text files, each of which has one word per line in lowercase, checks which words occur in the first le but not in the second file, and writes those words to a third file in alphabetical order separated by a newline character. You may assume that both text files comfortably fit in memory, and that the files do not contain duplicates.\n",
    "\n",
    "Your implementation should output the solution to a file. The function does not have to return anything or print anything to the screen."
   ]
  },
  {
   "cell_type": "code",
   "execution_count": null,
   "metadata": {
    "deletable": false,
    "nbgrader": {
     "cell_type": "code",
     "checksum": "b4d0ebe2e847289be00cdabfdfa13f34",
     "grade": false,
     "grade_id": "Q10-code",
     "locked": false,
     "schema_version": 3,
     "solution": true,
     "task": false
    }
   },
   "outputs": [],
   "source": [
    "# YOUR CODE HERE\n",
    "def exercise10(filename1,filename2,outfilename):\n",
    "\n",
    "# YOUR CODE ENDS HERE"
   ]
  },
  {
   "cell_type": "code",
   "execution_count": null,
   "metadata": {
    "deletable": false,
    "editable": false,
    "nbgrader": {
     "cell_type": "code",
     "checksum": "95cdf117812e998ebe515115909110ba",
     "grade": true,
     "grade_id": "Q10-answer",
     "locked": true,
     "points": 10,
     "schema_version": 3,
     "solution": false,
     "task": false
    }
   },
   "outputs": [],
   "source": [
    "exercise10('data/textfile1.txt', 'data/textfile2.txt', 'data/textfile3.txt')\n"
   ]
  },
  {
   "cell_type": "markdown",
   "metadata": {
    "deletable": false,
    "editable": false,
    "nbgrader": {
     "cell_type": "markdown",
     "checksum": "e25d903229567bc1c78b6e46b2b75a41",
     "grade": false,
     "grade_id": "Q11-def",
     "locked": true,
     "schema_version": 3,
     "solution": false,
     "task": false
    }
   },
   "source": [
    "## Exercise 11 (15 points) \n",
    "Write a function that reads an integer distance matrix from a text file. An example is the following input file:\n",
    "<code>\n",
    "0 1 \\-\n",
    "2 0 4\n",
    "\\- 4 0\n",
    "</code>\n",
    "which contains, e.g., the information that the distance from point 0 to point 1 is 1, while the distance from point 1 to point 0 is 2. A dash means that no direct connection exists (which can be implemented as float('inf'), so that the connection will not get used). Implement Dijkstra's Algorithm to find the shortest path from point 0 to the last point (2 in this case). \n",
    "\n",
    "You may not use a package that features Dijkstra's Algorithm. For the matrix shown above, the shortest distance is 5. Your implementation should return the length of the shortest path, and assign it to the variable `minimum_distance`."
   ]
  },
  {
   "cell_type": "code",
   "execution_count": null,
   "metadata": {
    "deletable": false,
    "nbgrader": {
     "cell_type": "code",
     "checksum": "171ec2e08a5460b71ca76e366836a9b6",
     "grade": false,
     "grade_id": "Q11-code",
     "locked": false,
     "schema_version": 3,
     "solution": true,
     "task": false
    }
   },
   "outputs": [],
   "source": [
    "# YOUR CODE HERE\n",
    "def exercise11(filename):\n",
    "\n",
    "# YOUR CODE ENDS HERE"
   ]
  },
  {
   "cell_type": "code",
   "execution_count": null,
   "metadata": {
    "deletable": false,
    "editable": false,
    "nbgrader": {
     "cell_type": "code",
     "checksum": "60dcfb4626cb42e54a0eb89be362c1a5",
     "grade": true,
     "grade_id": "Q11-answer",
     "locked": true,
     "points": 15,
     "schema_version": 3,
     "solution": false,
     "task": false
    }
   },
   "outputs": [],
   "source": [
    "minimum_distance = exercise11('data/dist_matrix.txt')\n",
    "print(minimum_distance)\n"
   ]
  },
  {
   "cell_type": "markdown",
   "metadata": {
    "deletable": false,
    "editable": false,
    "nbgrader": {
     "cell_type": "markdown",
     "checksum": "e4b18ec71a28584d86bb384121eab1c9",
     "grade": false,
     "grade_id": "Q12-def",
     "locked": true,
     "schema_version": 3,
     "solution": false,
     "task": false
    }
   },
   "source": [
    "## Exercise 12 (15 points) \n",
    "International draughts (Dutch: dammen) is a board game played on a 10x10 field with a chessboard pattern. For this assignment, you have to read a file that contains the state of a game as it is being played, and provide a graphical representation. For this, only a small subset of the rules is relevant:\n",
    "<ul>\n",
    "    <li>There are two players, white and black.</li>\n",
    "    <li>A 10x10 coordinate system is imposed on the board such that (1,1) is the left lower square for the white player and (10,1) is the right lower square for the white player.</li>\n",
    "    <li>The board is oriented such that (1,1) is a dark square.</li>\n",
    "    <li>Pieces can only be placed on dark squares, i.e., on (x,y) for which |x-y| = 0 (mod 2).</li>\n",
    "    <li>There are two types of pieces: regular pieces and promoted pieces.</li>\n",
    "</ul>\n",
    "\n",
    "The starting position will be supplied in an ASCII text file. Its lines contain the positions of (crowned) pieces. A valid line contains a coordinate, followed by a tab, followed by the type (w, W, b or B for a white piece, white promoted piece, black piece, or black promoted piece, respectively). Invalid lines should be ignored, as should\n",
    "any characters after the type. An example is shown below:\n",
    "<code>\n",
    "w\n",
    "(5,5) w the predator\n",
    "(6,6) b the prey\n",
    "(this is an example)\n",
    "</code>\n",
    "\n",
    "Write a function that takes the name and path of a text le as its argument, reads the text le, and prints a graphical representation of the board on the screen. The representation should use underscores and vertical bars as follows (notice that this example is a 3x3 board instead of a full board):\n",
    "\n",
    "<code>\n",
    " ___ ___ ___\n",
    "|   |   |   |\n",
    "|   |   |   |\n",
    "|___|___|___|\n",
    "|   |   |   |\n",
    "|   |   |   |\n",
    "|___|___|___|\n",
    "|   |   |   |\n",
    "|   |   |   |\n",
    "|___|___|___|\n",
    "</code>\n",
    "\n",
    "Note that each side consists of either three underscores or three vertical bars. The center of each square should contain the character w, W, b or B to indicate the piece (if any).\n",
    "\n",
    "Your implementation should print the output to the screen. The function does not need to return anything. For this assignment, you need to verify whether |x-y| = 0 (mod 2), in other words, |x-y| is an even number. The template provides some invalid lines as examples. The line with coordinate (3,1) is invalid since it starts with a space, and the line with coordinate (3,5) is invalid since no tab separates the coordinate\n",
    "from the color.\n"
   ]
  },
  {
   "cell_type": "code",
   "execution_count": null,
   "metadata": {
    "deletable": false,
    "nbgrader": {
     "cell_type": "code",
     "checksum": "92bb0fd6a876252d5dbe96f68adb1e1a",
     "grade": false,
     "grade_id": "Q12-code",
     "locked": false,
     "schema_version": 3,
     "solution": true,
     "task": false
    }
   },
   "outputs": [],
   "source": [
    "# YOUR CODE HERE\n",
    "def exercise12(filename):\n",
    "\n",
    "# YOUR CODE ENDS HERE"
   ]
  },
  {
   "cell_type": "code",
   "execution_count": null,
   "metadata": {
    "deletable": false,
    "nbgrader": {
     "cell_type": "code",
     "checksum": "9942002c5d5c6dd0b7bbc3a8123bfc2c",
     "grade": true,
     "grade_id": "Q12-answer",
     "locked": false,
     "points": 15,
     "schema_version": 3,
     "solution": true,
     "task": false
    }
   },
   "outputs": [],
   "source": [
    "exercise12('data/draughts.txt')"
   ]
  }
 ],
 "metadata": {
  "kernelspec": {
   "display_name": "Python 3",
   "language": "python",
   "name": "python3"
  },
  "language_info": {
   "codemirror_mode": {
    "name": "ipython",
    "version": 3
   },
   "file_extension": ".py",
   "mimetype": "text/x-python",
   "name": "python",
   "nbconvert_exporter": "python",
   "pygments_lexer": "ipython3",
   "version": "3.7.6"
  }
 },
 "nbformat": 4,
 "nbformat_minor": 4
}
