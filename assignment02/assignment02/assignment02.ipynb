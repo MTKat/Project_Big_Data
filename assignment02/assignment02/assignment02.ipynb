{
 "cells": [
  {
   "cell_type": "markdown",
   "metadata": {
    "deletable": false,
    "editable": false,
    "nbgrader": {
     "cell_type": "markdown",
     "checksum": "a6ca81e321cbf16ca139e2e83f93ca25",
     "grade": false,
     "grade_id": "introduction",
     "locked": true,
     "schema_version": 3,
     "solution": false,
     "task": false
    }
   },
   "source": [
    "# Assignment 2\n",
    "You will continue to work with the hue data files supplied for Assignment 1. We assume that the folder that you work in has the following structure.\n",
    "<code>\n",
    "assignment02.ipynb\n",
    "hue_upload.csv\n",
    "hue_upload2.csv\n",
    "</code>\n",
    "\n",
    "The first four columns represent the `row id`, `user id`, `event id`, and `value`. Any extra columns are irrelevant. For example, the first row of one file reads:\n",
    "\n",
    "`\"1\";\"10\";\"lamp change 29 mei 2015 19 08 33 984\";\"OFF\"`\n",
    "\n",
    "As you can see, the `event id` encompasses both a description of the event (`lamp_change`) and the date/time\n",
    "(May 29, 7:08:33 pm). The following events are considered informative:\n",
    "\n",
    "| String               | Description                                               |\n",
    "-----------------------|------------------------------------------------------------\n",
    "| `lamp_change`          | Light control via app                                     |\n",
    "| `nudge_time`           | Automatic light dim time for people in experimental group |\n",
    "| `bedtime_tonight`      | Intended bedtime (self-reported)                          |\n",
    "| `risetime`             | Rise time (self-reported)                                 |\n",
    "| `rise_reason`          | Reason for rising (self-reported)                         |\n",
    "| `adherence importance` | Adherence (self-reported)                                 |\n",
    "| `fitness`              | Fitness (self-reported)                                   |\n",
    "\n",
    "All self-reported values are entered around noon. Records with other events may be ignored."
   ]
  },
  {
   "cell_type": "code",
   "execution_count": 3,
   "metadata": {
    "deletable": false,
    "editable": false,
    "nbgrader": {
     "cell_type": "code",
     "checksum": "a613553c8aab92e7fe7dad1524da5171",
     "grade": false,
     "grade_id": "initialize",
     "locked": true,
     "schema_version": 3,
     "solution": false,
     "task": false
    },
    "scrolled": true
   },
   "outputs": [],
   "source": [
    "import datetime as datetime\n",
    "import pandas as pd\n",
    "import numpy as np\n",
    "import pymongo\n",
    "import re \n",
    "\n",
    "pd.options.display.max_rows = 20"
   ]
  },
  {
   "cell_type": "markdown",
   "metadata": {
    "deletable": false,
    "editable": false,
    "nbgrader": {
     "cell_type": "markdown",
     "checksum": "69334e6e0a4848a816680f87efaff71e",
     "grade": false,
     "grade_id": "Q1-def",
     "locked": true,
     "schema_version": 3,
     "solution": false,
     "task": false
    }
   },
   "source": [
    "## Exercise 1 (70 points)\n",
    "The first part of this assignment is to write a Python function `read_csv_data` that reads the data into\n",
    "a Pandas DataFrame. The index should be a (date, user) tuple, where date is stored in datetime.datetime format\n",
    "(see the document with the \"Tips\"). The columns of your Pandas DataFrame should be `bedtime`, `intended_bedtime`,\n",
    "`rise_time`, `rise_reason`, `fitness`, `adherence_importance` and `in_experimental_group`. Note: it is important to stick to this nomenclature. The way to do this is by going through the CSV data line by line, and parsing each line\n",
    "individually, following these requirements:\n",
    "\n",
    "<ul>\n",
    "<li>\n",
    "`bedtime` should be inferred from the `lamp_change` event. There are multiple reasonable ways to accomplish this. In this assigment, we define the  bedtime as the last OFF state of the `lamp_change` in the interval between 7 pm of the current day and 6 am of the next day. For example, from the row printed above you may\n",
    "infer that the person did not sleep before 7:08:33 pm. As you go through the lines in the csv file, whenever\n",
    "you discover new relevant information, you either update an existing record in the dataframe (if a record\n",
    "for that day and user exists), or you create a new record (see the document with the \"Tips\").\n",
    "<br><br>\n",
    "For example, if you encounter a line where user 10 turns the light on at 9 pm and another line where he\n",
    "turns it off at 10 pm (still on May 29), you update the record above to change the bedtime to 10 pm. If\n",
    "someone falls asleep past midnight, the bedtime should be stored in the record corresponding to the day before. Again, dates and times should be stored as datetime.datetime.\n",
    "<br><br></li>\n",
    "<li>`intended_bedtime` should be filled in based on the `bedtime_tonight` event. Note that 1030 probably means 10:30 in the evening. Again, dates and times should be stored as datetime.datetime.\n",
    "<br><br></li>\n",
    "<li>\n",
    "`rise_time`. The value for the column in your solution should be obtained from the `risetime` event in the CSV file.\n",
    "<br><br></li>\n",
    "<li>\n",
    "`rise_reason`, `fitness` and `adherence_importance` values should be copied from the CSV file. Note that if\n",
    "multiple distinct values are entered, the last should be assumed to be correct.\n",
    "<br><br></li>\n",
    "<li>\n",
    "`in_experimental_group` should be boolean (True/False). The default value is False, but should be changed\n",
    "to True if a `nudge_time` event is encountered. If a user is in the experimental group on one day, he is on\n",
    "all days.\n",
    "</li>\n",
    "</ul>    "
   ]
  },
  {
   "cell_type": "code",
   "execution_count": null,
   "metadata": {
    "deletable": false,
    "nbgrader": {
     "cell_type": "code",
     "checksum": "57a4f8b520e56cf17a2b584aec3f916f",
     "grade": false,
     "grade_id": "Q1-code",
     "locked": false,
     "schema_version": 3,
     "solution": true,
     "task": false
    }
   },
   "outputs": [],
   "source": [
    "def read_csv_data(filenames):\n",
    "# YOUR CODE HERE\n",
    "\n",
    "# YOUR CODE ENDS HERE"
   ]
  },
  {
   "cell_type": "code",
   "execution_count": null,
   "metadata": {
    "deletable": false,
    "editable": false,
    "nbgrader": {
     "cell_type": "code",
     "checksum": "ed1ba230202c63ed2c14c01af1b923fd",
     "grade": true,
     "grade_id": "Q1-answer",
     "locked": true,
     "points": 10,
     "schema_version": 3,
     "solution": false,
     "task": false
    }
   },
   "outputs": [],
   "source": [
    "df = read_csv_data(['hue_upload.csv', 'hue_upload2.csv'])\n",
    "df"
   ]
  },
  {
   "cell_type": "code",
   "execution_count": null,
   "metadata": {
    "deletable": false,
    "editable": false,
    "nbgrader": {
     "cell_type": "code",
     "checksum": "47aa9a949b7b4f9b5a8548dab777a3fd",
     "grade": true,
     "grade_id": "Q1-index",
     "locked": true,
     "points": 10,
     "schema_version": 3,
     "solution": false,
     "task": false
    }
   },
   "outputs": [],
   "source": [
    "# check the index\n",
    "print(df.index)\n"
   ]
  },
  {
   "cell_type": "code",
   "execution_count": null,
   "metadata": {
    "deletable": false,
    "editable": false,
    "nbgrader": {
     "cell_type": "code",
     "checksum": "0624254652c994989464c77cd084e3bb",
     "grade": true,
     "grade_id": "Q1-bedtime",
     "locked": true,
     "points": 10,
     "schema_version": 3,
     "solution": false,
     "task": false
    }
   },
   "outputs": [],
   "source": [
    "# check the bedtime column\n",
    "display(df[['bedtime']])\n"
   ]
  },
  {
   "cell_type": "code",
   "execution_count": null,
   "metadata": {
    "deletable": false,
    "editable": false,
    "nbgrader": {
     "cell_type": "code",
     "checksum": "b88b6e50023eb99760df799667fa049a",
     "grade": true,
     "grade_id": "Q1-intended-bedtime",
     "locked": true,
     "points": 10,
     "schema_version": 3,
     "solution": false,
     "task": false
    }
   },
   "outputs": [],
   "source": [
    "# check the intended_bedtime column\n",
    "display(df[['intended_bedtime']])\n"
   ]
  },
  {
   "cell_type": "code",
   "execution_count": null,
   "metadata": {
    "deletable": false,
    "editable": false,
    "nbgrader": {
     "cell_type": "code",
     "checksum": "a0be9761651586b798ce4adb65c00024",
     "grade": true,
     "grade_id": "Q1-risetime",
     "locked": true,
     "points": 10,
     "schema_version": 3,
     "solution": false,
     "task": false
    }
   },
   "outputs": [],
   "source": [
    "# check the rise_time\n",
    "display(df[['rise_time']])\n"
   ]
  },
  {
   "cell_type": "code",
   "execution_count": null,
   "metadata": {
    "deletable": false,
    "editable": false,
    "nbgrader": {
     "cell_type": "code",
     "checksum": "3a5f920194cb7734d97cd04b2811263e",
     "grade": true,
     "grade_id": "Q1-rise",
     "locked": true,
     "points": 10,
     "schema_version": 3,
     "solution": false,
     "task": false
    }
   },
   "outputs": [],
   "source": [
    "# check the rise_reason, fitness, adherence_importance column\n",
    "display(df[['rise_reason', 'fitness', 'adherence_importance']])\n"
   ]
  },
  {
   "cell_type": "code",
   "execution_count": null,
   "metadata": {
    "deletable": false,
    "editable": false,
    "nbgrader": {
     "cell_type": "code",
     "checksum": "b66232c2440c2600e830d82a98aa4c51",
     "grade": true,
     "grade_id": "Q1_experimental-group",
     "locked": true,
     "points": 10,
     "schema_version": 3,
     "solution": false,
     "task": false
    }
   },
   "outputs": [],
   "source": [
    "# check the in_experimental_group column\n",
    "display(df[['in_experimental_group']])\n"
   ]
  },
  {
   "cell_type": "markdown",
   "metadata": {
    "deletable": false,
    "editable": false,
    "nbgrader": {
     "cell_type": "markdown",
     "checksum": "7d5bbab1114ff3d9879d88815839802e",
     "grade": false,
     "grade_id": "Q2-def",
     "locked": true,
     "schema_version": 3,
     "solution": false,
     "task": false
    }
   },
   "source": [
    "## Exercise 2 (10 + 20 points)\n",
    "The second part of this assignment is to store the contents of the DataFrame into MongoDB, and to write a function that retrieves data from MongoDB and outputs it in a user-friendly format.\n",
    "\n",
    "<ol>\n",
    "<li>\n",
    "The data should be stored in the collection \"sleepdata\" in the database \"BigData\". Make sure to use\n",
    "the same column names as specified for the DataFrame, and to define the correct primary key. See\n",
    "the document with the \"Tips\" for some comments about the primary key. Add the extra columns \"date\",\n",
    "\"user\", \"sleep duration\" to facilitate sorting the data if necessary. Here, \"sleep duration\" is the difference between the risetime and the bedtime.\n",
    "<br><br></li>\n",
    "<li>The following is an example of how the output must be presented.\n",
    "    \n",
    "| date | user | bedtime | intended | risetime | reason | fitness | adh | in_exp | sleep_duration |\n",
    "-------|------|---------|----------|----------|--------|---------|-----|--------|----------------|    \n",
    "| 11-06-2015 | 2  | 00:51:28 | 22:30:00 | 07:00:00 | ja  | -    | 47.0 | no  | 22351 |\n",
    "| 11-06-2015 | 20 | 00:28:10 | 23:00:00 | 07:10:00 | nee | 55.0 | 88.0 | yes | 33510 |\n",
    "| 11-06-2015 | 34 | 19:54:10 | -        | -        | -   | -    | -    | yes | -     |\n",
    "\n",
    "Here sleep duration is in number of seconds. Note that, in order to determine the sleep duration of day X, it\n",
    "is necessary to know the risetime of day X, but the bedtime of day X - 1.\n",
    "<br><br></li>\n",
    "</ol>"
   ]
  },
  {
   "cell_type": "code",
   "execution_count": 69,
   "metadata": {
    "deletable": false,
    "nbgrader": {
     "cell_type": "code",
     "checksum": "fe128dadbe322f142b065f05b2dff9b9",
     "grade": false,
     "grade_id": "Q2-code",
     "locked": false,
     "schema_version": 3,
     "solution": true,
     "task": false
    }
   },
   "outputs": [],
   "source": [
    "from datetime import datetime, timedelta, date\n",
    "import random\n",
    "\n",
    "start = datetime.now()\n",
    "end = start + timedelta(days=5)\n",
    "\n",
    "def r():\n",
    "    return start + (end - start) * random.random()\n",
    "\n",
    "today = date.today()\n",
    "today_with_time = datetime(\n",
    "    year=today.year, \n",
    "    month=today.month,\n",
    "    day=today.day,\n",
    ")\n",
    "\n",
    "tomorrow_with_time = datetime(\n",
    "    year=today.year, \n",
    "    month=today.month,\n",
    "    day=today.day + 1,\n",
    ")\n",
    "\n",
    "d = { 'bedtime': [r(), r()]\n",
    "    , 'intended_bedtime': [r(), r()]\n",
    "    , 'rise_time': [r(), r()]\n",
    "    , 'rise_reason': [\"a\", \"b\"]\n",
    "    , 'fitness': [\"c\", \"d\"]\n",
    "    , 'adherence_importance': [\"very important\", \"not important\"] \n",
    "    , 'in_experimental_group': [True, False]\n",
    "    , 'index': [(tomorrow_with_time, \"ola\"), (today_with_time, \"ola\")] \n",
    "    }\n",
    "\n",
    "df = pd.DataFrame(data=d)\n",
    "df = df.set_index('index')\n",
    "\n",
    "def to_mongodb():\n",
    "# YOUR CODE HERE\n",
    "    \n",
    "    # connect to MongoDB database\n",
    "    client = pymongo.MongoClient(\"localhost\", 27017)\n",
    "    db = client.BigData\n",
    "    sleepdata = db.sleepdata\n",
    "    sleepdata.delete_many({})\n",
    "    \n",
    "    # set primary key\n",
    "    df['_id'] = pd.Series(dict(zip(df.index, list(map(lambda x : {\"date\": x[0], \"name\": x[1]}, df.index)))))\n",
    "    \n",
    "    # add column date and user\n",
    "    df['user'] = pd.Series(dict(zip(df.index, list(map(lambda x : x[1], df.index)))))\n",
    "    df['date'] = pd.Series(dict(zip(df.index, list(map(lambda x : x[0], df.index)))))\n",
    "    \n",
    "    # add sleep_duration column\n",
    "    bedtime = df['bedtime'].transpose().to_dict()\n",
    "    risetime = df['rise_time'].transpose().to_dict()\n",
    "    \n",
    "    def sleep_time(index):\n",
    "        rise = risetime.get(index)\n",
    "        bet = bedtime.get((index[0] - timedelta(days=1), index[1]))\n",
    "        if rise and bet:\n",
    "            return (rise - bet).total_seconds()\n",
    "    \n",
    "    df['sleep_duration'] = pd.Series(dict(zip(df.index, list(map(sleep_time, df.index)))))\n",
    "    df.fillna(\"-\",inplace=True)\n",
    "    \n",
    "    sleepdata.insert_many(df.to_dict('records'))\n",
    "    \n",
    "to_mongodb()    \n",
    "# YOUR CODE ENDS HERE"
   ]
  },
  {
   "cell_type": "code",
   "execution_count": 61,
   "metadata": {
    "deletable": false,
    "editable": false,
    "nbgrader": {
     "cell_type": "code",
     "checksum": "60c2dc6c6665eb42d80e0f43c985350f",
     "grade": true,
     "grade_id": "Q2-answer",
     "locked": true,
     "points": 10,
     "schema_version": 3,
     "solution": false,
     "task": false
    }
   },
   "outputs": [
    {
     "ename": "TypeError",
     "evalue": "to_mongodb() takes 0 positional arguments but 1 was given",
     "output_type": "error",
     "traceback": [
      "\u001b[0;31m---------------------------------------------------------------------------\u001b[0m",
      "\u001b[0;31mTypeError\u001b[0m                                 Traceback (most recent call last)",
      "\u001b[0;32m<ipython-input-61-51912f7d6a34>\u001b[0m in \u001b[0;36m<module>\u001b[0;34m\u001b[0m\n\u001b[0;32m----> 1\u001b[0;31m \u001b[0mto_mongodb\u001b[0m\u001b[0;34m(\u001b[0m\u001b[0mdf\u001b[0m\u001b[0;34m)\u001b[0m\u001b[0;34m\u001b[0m\u001b[0;34m\u001b[0m\u001b[0m\n\u001b[0m",
      "\u001b[0;31mTypeError\u001b[0m: to_mongodb() takes 0 positional arguments but 1 was given"
     ]
    }
   ],
   "source": [
    "to_mongodb(df)\n"
   ]
  },
  {
   "cell_type": "code",
   "execution_count": 86,
   "metadata": {
    "deletable": false,
    "nbgrader": {
     "cell_type": "code",
     "checksum": "9de90f146f77f82bcfd3c7bf1ea55cee",
     "grade": false,
     "grade_id": "Q3-code",
     "locked": false,
     "schema_version": 3,
     "solution": true,
     "task": false
    }
   },
   "outputs": [],
   "source": [
    "def read_mongodb(filter,sort):\n",
    "# YOUR CODE HERE\n",
    "\n",
    "    # connect to MongoDB database\n",
    "    connection = pymongo.MongoClient(\"localhost\", 27017)\n",
    "    db = connection.BigData\n",
    "    sleepdata = db.sleepdata\n",
    "    data = sleepdata.find(filter).sort(sort, pymongo.ASCENDING)\n",
    "    \n",
    "    for row in data:\n",
    "        print(row)\n",
    "    \n",
    "    return data\n",
    "# YOUR CODE ENDS HERE"
   ]
  },
  {
   "cell_type": "code",
   "execution_count": 87,
   "metadata": {
    "deletable": false,
    "editable": false,
    "nbgrader": {
     "cell_type": "code",
     "checksum": "6bf977c4fecf8ccce698e0dd15c92dad",
     "grade": true,
     "grade_id": "Q3-answer",
     "locked": true,
     "points": 20,
     "schema_version": 3,
     "solution": false,
     "task": false
    }
   },
   "outputs": [
    {
     "ename": "AttributeError",
     "evalue": "'Cursor' object has no attribute 'forEach'",
     "output_type": "error",
     "traceback": [
      "\u001b[0;31m---------------------------------------------------------------------------\u001b[0m",
      "\u001b[0;31mAttributeError\u001b[0m                            Traceback (most recent call last)",
      "\u001b[0;32m<ipython-input-87-d5cee3c58294>\u001b[0m in \u001b[0;36m<module>\u001b[0;34m\u001b[0m\n\u001b[0;32m----> 1\u001b[0;31m \u001b[0mquery\u001b[0m \u001b[0;34m=\u001b[0m \u001b[0mread_mongodb\u001b[0m\u001b[0;34m(\u001b[0m\u001b[0;34m{\u001b[0m\u001b[0;34m'sleep_duration'\u001b[0m\u001b[0;34m:\u001b[0m \u001b[0;34m{\u001b[0m\u001b[0;34m'$gt'\u001b[0m\u001b[0;34m:\u001b[0m \u001b[0;36m40000\u001b[0m\u001b[0;34m}\u001b[0m\u001b[0;34m}\u001b[0m\u001b[0;34m,\u001b[0m \u001b[0;34m'_id'\u001b[0m\u001b[0;34m)\u001b[0m\u001b[0;34m\u001b[0m\u001b[0;34m\u001b[0m\u001b[0m\n\u001b[0m\u001b[1;32m      2\u001b[0m \u001b[0mprint\u001b[0m\u001b[0;34m(\u001b[0m\u001b[0mquery\u001b[0m\u001b[0;34m)\u001b[0m\u001b[0;34m\u001b[0m\u001b[0;34m\u001b[0m\u001b[0m\n",
      "\u001b[0;32m<ipython-input-86-9a5bb0003df0>\u001b[0m in \u001b[0;36mread_mongodb\u001b[0;34m(filter, sort)\u001b[0m\n\u001b[1;32m      6\u001b[0m     \u001b[0mdb\u001b[0m \u001b[0;34m=\u001b[0m \u001b[0mconnection\u001b[0m\u001b[0;34m.\u001b[0m\u001b[0mBigData\u001b[0m\u001b[0;34m\u001b[0m\u001b[0;34m\u001b[0m\u001b[0m\n\u001b[1;32m      7\u001b[0m     \u001b[0msleepdata\u001b[0m \u001b[0;34m=\u001b[0m \u001b[0mdb\u001b[0m\u001b[0;34m.\u001b[0m\u001b[0msleepdata\u001b[0m\u001b[0;34m\u001b[0m\u001b[0;34m\u001b[0m\u001b[0m\n\u001b[0;32m----> 8\u001b[0;31m     \u001b[0mdata\u001b[0m \u001b[0;34m=\u001b[0m \u001b[0msleepdata\u001b[0m\u001b[0;34m.\u001b[0m\u001b[0mfind\u001b[0m\u001b[0;34m(\u001b[0m\u001b[0mfilter\u001b[0m\u001b[0;34m)\u001b[0m\u001b[0;34m.\u001b[0m\u001b[0msort\u001b[0m\u001b[0;34m(\u001b[0m\u001b[0msort\u001b[0m\u001b[0;34m,\u001b[0m \u001b[0mpymongo\u001b[0m\u001b[0;34m.\u001b[0m\u001b[0mASCENDING\u001b[0m\u001b[0;34m)\u001b[0m\u001b[0;34m.\u001b[0m\u001b[0mforEach\u001b[0m\u001b[0;34m(\u001b[0m\u001b[0mprintjson\u001b[0m\u001b[0;34m)\u001b[0m\u001b[0;34m\u001b[0m\u001b[0;34m\u001b[0m\u001b[0m\n\u001b[0m\u001b[1;32m      9\u001b[0m \u001b[0;34m\u001b[0m\u001b[0m\n\u001b[1;32m     10\u001b[0m     \u001b[0;32mfor\u001b[0m \u001b[0mrow\u001b[0m \u001b[0;32min\u001b[0m \u001b[0mdata\u001b[0m\u001b[0;34m:\u001b[0m\u001b[0;34m\u001b[0m\u001b[0;34m\u001b[0m\u001b[0m\n",
      "\u001b[0;31mAttributeError\u001b[0m: 'Cursor' object has no attribute 'forEach'"
     ]
    }
   ],
   "source": [
    "query = read_mongodb({'sleep_duration': {'$gt': 40000}}, '_id')\n",
    "print(query)\n"
   ]
  },
  {
   "cell_type": "code",
   "execution_count": 68,
   "metadata": {},
   "outputs": [
    {
     "name": "stdout",
     "output_type": "stream",
     "text": [
      "[]\n"
     ]
    }
   ],
   "source": []
  },
  {
   "cell_type": "code",
   "execution_count": null,
   "metadata": {},
   "outputs": [],
   "source": []
  }
 ],
 "metadata": {
  "kernelspec": {
   "display_name": "Python 3",
   "language": "python",
   "name": "python3"
  },
  "language_info": {
   "codemirror_mode": {
    "name": "ipython",
    "version": 3
   },
   "file_extension": ".py",
   "mimetype": "text/x-python",
   "name": "python",
   "nbconvert_exporter": "python",
   "pygments_lexer": "ipython3",
   "version": "3.8.2"
  }
 },
 "nbformat": 4,
 "nbformat_minor": 4
}
