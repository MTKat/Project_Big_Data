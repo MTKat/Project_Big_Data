{
 "cells": [
  {
   "cell_type": "markdown",
   "metadata": {
    "deletable": false,
    "editable": false,
    "nbgrader": {
     "cell_type": "markdown",
     "checksum": "4209cc3169e226ce85cbc0c937ca3224",
     "grade": false,
     "grade_id": "assignment",
     "locked": true,
     "schema_version": 3,
     "solution": false,
     "task": false
    }
   },
   "source": [
    "# Assignment 3"
   ]
  },
  {
   "cell_type": "markdown",
   "metadata": {
    "deletable": false,
    "editable": false,
    "nbgrader": {
     "cell_type": "markdown",
     "checksum": "cca449190bc85a61dafd06b1aa6d52e4",
     "grade": false,
     "grade_id": "introduction",
     "locked": true,
     "schema_version": 3,
     "solution": false,
     "task": false
    }
   },
   "source": [
    "## Part 1\n",
    "\n",
    "The goal of this part of the assignment is to provide you with practice and experience in some basic data exploration and hypothesis testing with Python. You will work with data from the “HUE bedtime procrastination study”. A cleaned version of the data is available on Canvas (`hue_week_3.csv`), as well as another file that contains data from the post-study questionnaire that participants filled out at the end of the study (`hue_questionnaire.csv`). This file contains the following information:\n",
    "\n",
    "| Column | Description |\n",
    "-----------------------|--------------------------------------------|\n",
    "| `gender`          | 1 = male, 2 = female |\n",
    "| `age`           | Numeric age value | \n",
    "| `chronotype`      |    Single item (7-point scale), do you consider yourself more of a <br> morning (1) or an evening person? (7) |\n",
    "| `bp_scale` | Dutch version of the Bedtime Procrastination Scale |\n",
    "| `motivation` | Questions pertaining to personality traits related to procrastination. <br> Single item (7-point scale), how motivated were you to go to bed on <br> time each night? (1 = not motivated, 7 = very motivated) |\n",
    "| `daytime_sleepiness` | Dutch translation of the Epworth Sleepiness Scale <br> (4-point scale from 0-3; 8 questions, values summed) |\n",
    "| `self_reported_effectiveness` | Single item (7-point scale), <br> do you feel more rested since the intervention |\n",
    "\n",
    "In this part of the assignment, you will use Python to examine the post-questionnaire data in relation to the HUE data file, visualize trends and relationships, look for correlations between factors, test for significant differences between groups and build a regression model to predict bedtime delay. In order to perform the analyses, a number of transformations on the data still need to be done."
   ]
  },
  {
   "cell_type": "code",
   "execution_count": 1,
   "metadata": {
    "deletable": false,
    "editable": false,
    "nbgrader": {
     "cell_type": "code",
     "checksum": "a326d63c41a47b1a4e9b0e24029acf7e",
     "grade": false,
     "grade_id": "initialize",
     "locked": true,
     "schema_version": 3,
     "solution": false,
     "task": false
    }
   },
   "outputs": [],
   "source": [
    "import pandas as pd\n",
    "import numpy as np\n",
    "import matplotlib.pyplot as plt\n",
    "import statsmodels.api as sm\n",
    "from scipy import stats\n",
    "import datetime\n",
    "import sys\n",
    "from io import StringIO\n",
    "\n",
    "\n",
    "pd.options.display.max_rows = 20"
   ]
  },
  {
   "cell_type": "markdown",
   "metadata": {
    "deletable": false,
    "editable": false,
    "nbgrader": {
     "cell_type": "markdown",
     "checksum": "2cc856c1d8bdfd7ac8bef07a84ca2966",
     "grade": false,
     "grade_id": "Q1-def",
     "locked": true,
     "schema_version": 3,
     "solution": false,
     "task": false
    }
   },
   "source": [
    "## Exercise 1 (20 points)\n",
    "Implement the following steps in Python:\n",
    "\n",
    "<ul>\n",
    "<li>\n",
    "    Read the HUE data file and the questionnaire data file into two separate pandas DataFrames.\n",
    "<br></li>\n",
    "<li>\n",
    "    Create a new DataFrame that contains the following Series:\n",
    "    \n",
    "| Column | Description |\n",
    "-----------------------|--------------------------------------------|\n",
    "| `ID` | Participant ID |\n",
    "| `group` | Participant group (1 for experimental, 0 for control) |\n",
    "| `delay_nights` | The number of nights the participant delayed their bedtime (range: 0-12) |\n",
    "| `delay_time` | The mean time in seconds a participant delayed their bedtime <br> (total delay in seconds, divided by the number of observations <br> measured for each individual, rounded to nearest second) |\n",
    "| `sleep_time` | The mean time in seconds of a participant (rounded to nearest second) |\n",
    "    \n",
    "    \n",
    "<br></li>\n",
    "<li>\n",
    "    Set the index of this new DataFrame to `ID`. Note that there should only be a single row per participant ID.    \n",
    "<br></li>\n",
    "<li>\n",
    "    Fill this new DataFrame by transforming data from the DataFrame about participants' bedtimes (from the HUE data file).\n",
    "<br></li>\n",
    "<li>\n",
    "    Merge this new DataFrame with the post-questionnaire data and store the resulting DataFrame in a new variable. Perform this merging operation of the two DataFrames in such a way that the resulting Data Frame only contains IDs that were present in both datasets.\n",
    "<br></li>\n",
    "<li>\n",
    "    Remove the rows that have NaN values in this merged DataFrame.\n",
    "</li>\n",
    "</ul> "
   ]
  },
  {
   "cell_type": "code",
   "execution_count": 2,
   "metadata": {
    "deletable": false,
    "editable": false,
    "nbgrader": {
     "cell_type": "code",
     "checksum": "41513032a024d2a80e7b12875a552378",
     "grade": false,
     "grade_id": "Q1-prep",
     "locked": true,
     "schema_version": 3,
     "solution": false,
     "task": false
    }
   },
   "outputs": [],
   "source": [
    "sleepdatafile   = 'hue_week_3.csv'\n",
    "surveydatafile  = 'hue_questionnaire.csv'"
   ]
  },
  {
   "cell_type": "code",
   "execution_count": 17,
   "metadata": {
    "deletable": false,
    "nbgrader": {
     "cell_type": "code",
     "checksum": "e41275e7f14c82cd22511b2834aab907",
     "grade": false,
     "grade_id": "Q1-code",
     "locked": false,
     "schema_version": 3,
     "solution": true,
     "task": false
    }
   },
   "outputs": [],
   "source": [
    "def read_data(sleepdatafile, surveydatafile):\n",
    "# YOUR CODE HERE\n",
    "    import datetime as dt\n",
    "    import statistics \n",
    "    colnames = ['ID', 'group', 'delay_nights', 'delay_time', 'sleep_time']\n",
    "    sleep = pd.read_csv(sleepdatafile, sep = ',', encoding ='utf_8')\n",
    "    survey = pd.read_csv(surveydatafile, sep = ',', encoding ='utf_8')\n",
    "    \n",
    "    def date_from_time(datetime_str):\n",
    "        today = dt.date.today()\n",
    "        tomorrow = today + dt.timedelta(days=1)\n",
    "        time = dt.datetime.strptime(datetime_str, '%H:%M').time()\n",
    "        if time < dt.time(16,0,0): #morning next date\n",
    "            return dt.datetime.combine(tomorrow, time)\n",
    "        else:\n",
    "            return dt.datetime.combine(today, time)\n",
    "\n",
    "    def gth_(x, y):\n",
    "        if is_nan((x, y)):\n",
    "            return False\n",
    "        return date_from_time(x) > date_from_time(y)\n",
    "\n",
    "    def diff(a):\n",
    "        x, y = a[1], a[0]\n",
    "        return (date_from_time(x) - date_from_time(y)).total_seconds()\n",
    "\n",
    "    def is_nan(x):\n",
    "        return x[0] != x[0] or x[1] != x[1]\n",
    "\n",
    "    def mean(l):\n",
    "        if l:\n",
    "            return round(statistics.mean(l))\n",
    "        \n",
    "    \n",
    "    sleep = pd.read_csv(sleepdatafile, sep = ',', encoding ='utf_8')\n",
    "    col_names = sleep.columns\n",
    "    rows = []\n",
    "    index = []\n",
    "    for _, row in sleep.iterrows():\n",
    "        intended = [x for (y, x) in zip(col_names, row) if \"Intended Bedtime\" in y]\n",
    "        actual = [x for (y, x) in zip(col_names, row) if \"Actual Bedtime\" in y]\n",
    "        rise_time = [x for (y, x) in zip(col_names, row) if \"Rise Time\" in y]\n",
    "\n",
    "        delayed_nights = list(filter(lambda x : gth_(x[1], x[0]), zip(intended, actual)))\n",
    "        delay_time = mean(list(map(lambda x : diff(x), delayed_nights)))\n",
    "        sleep_time = mean(list(map(diff, filter(lambda x : not is_nan(x), zip(actual, rise_time[1:])))))\n",
    "\n",
    "\n",
    "        row_ = [row['Condition'], len(delayed_nights), delay_time, sleep_time]\n",
    "        rows.append(row_)\n",
    "        index.append(row['ID'])\n",
    "\n",
    "\n",
    "    df_ = pd.DataFrame(rows, columns=['group', 'delay_nights', 'delay_time', 'sleep_time'], index=index) \n",
    "    survey = survey.set_index('ID')\n",
    "    combined = survey.merge(df_, left_index=True, right_index=True, suffixes=(False, False)).dropna()\n",
    "    \n",
    "    return combined\n",
    "\n",
    "    \n",
    "# YOUR CODE ENDS HERE"
   ]
  },
  {
   "cell_type": "code",
   "execution_count": 18,
   "metadata": {
    "deletable": false,
    "editable": false,
    "nbgrader": {
     "cell_type": "code",
     "checksum": "652357347ba5f1a7a71ee5b1dd81cf6c",
     "grade": true,
     "grade_id": "Q1-check",
     "locked": true,
     "points": 20,
     "schema_version": 3,
     "solution": false,
     "task": false
    }
   },
   "outputs": [
    {
     "data": {
      "text/html": [
       "<div>\n",
       "<style scoped>\n",
       "    .dataframe tbody tr th:only-of-type {\n",
       "        vertical-align: middle;\n",
       "    }\n",
       "\n",
       "    .dataframe tbody tr th {\n",
       "        vertical-align: top;\n",
       "    }\n",
       "\n",
       "    .dataframe thead th {\n",
       "        text-align: right;\n",
       "    }\n",
       "</style>\n",
       "<table border=\"1\" class=\"dataframe\">\n",
       "  <thead>\n",
       "    <tr style=\"text-align: right;\">\n",
       "      <th></th>\n",
       "      <th>gender</th>\n",
       "      <th>age</th>\n",
       "      <th>chronotype</th>\n",
       "      <th>bp_scale</th>\n",
       "      <th>motivation</th>\n",
       "      <th>daytime_sleepiness</th>\n",
       "      <th>self_reported_effectiveness</th>\n",
       "      <th>group</th>\n",
       "      <th>delay_nights</th>\n",
       "      <th>delay_time</th>\n",
       "      <th>sleep_time</th>\n",
       "    </tr>\n",
       "  </thead>\n",
       "  <tbody>\n",
       "    <tr>\n",
       "      <th>1</th>\n",
       "      <td>2</td>\n",
       "      <td>20</td>\n",
       "      <td>7</td>\n",
       "      <td>6.11</td>\n",
       "      <td>4</td>\n",
       "      <td>17</td>\n",
       "      <td>4</td>\n",
       "      <td>0</td>\n",
       "      <td>10</td>\n",
       "      <td>6030.0</td>\n",
       "      <td>31222.0</td>\n",
       "    </tr>\n",
       "    <tr>\n",
       "      <th>2</th>\n",
       "      <td>2</td>\n",
       "      <td>25</td>\n",
       "      <td>5</td>\n",
       "      <td>5.22</td>\n",
       "      <td>4</td>\n",
       "      <td>21</td>\n",
       "      <td>2</td>\n",
       "      <td>0</td>\n",
       "      <td>7</td>\n",
       "      <td>2494.0</td>\n",
       "      <td>27880.0</td>\n",
       "    </tr>\n",
       "    <tr>\n",
       "      <th>4</th>\n",
       "      <td>2</td>\n",
       "      <td>30</td>\n",
       "      <td>1</td>\n",
       "      <td>6.67</td>\n",
       "      <td>5</td>\n",
       "      <td>14</td>\n",
       "      <td>5</td>\n",
       "      <td>1</td>\n",
       "      <td>7</td>\n",
       "      <td>4149.0</td>\n",
       "      <td>30345.0</td>\n",
       "    </tr>\n",
       "    <tr>\n",
       "      <th>5</th>\n",
       "      <td>2</td>\n",
       "      <td>27</td>\n",
       "      <td>5</td>\n",
       "      <td>2.67</td>\n",
       "      <td>6</td>\n",
       "      <td>12</td>\n",
       "      <td>6</td>\n",
       "      <td>1</td>\n",
       "      <td>9</td>\n",
       "      <td>2620.0</td>\n",
       "      <td>32267.0</td>\n",
       "    </tr>\n",
       "    <tr>\n",
       "      <th>6</th>\n",
       "      <td>1</td>\n",
       "      <td>27</td>\n",
       "      <td>6</td>\n",
       "      <td>5.11</td>\n",
       "      <td>6</td>\n",
       "      <td>14</td>\n",
       "      <td>3</td>\n",
       "      <td>0</td>\n",
       "      <td>7</td>\n",
       "      <td>5417.0</td>\n",
       "      <td>29925.0</td>\n",
       "    </tr>\n",
       "    <tr>\n",
       "      <th>...</th>\n",
       "      <td>...</td>\n",
       "      <td>...</td>\n",
       "      <td>...</td>\n",
       "      <td>...</td>\n",
       "      <td>...</td>\n",
       "      <td>...</td>\n",
       "      <td>...</td>\n",
       "      <td>...</td>\n",
       "      <td>...</td>\n",
       "      <td>...</td>\n",
       "      <td>...</td>\n",
       "    </tr>\n",
       "    <tr>\n",
       "      <th>52</th>\n",
       "      <td>1</td>\n",
       "      <td>18</td>\n",
       "      <td>7</td>\n",
       "      <td>5.56</td>\n",
       "      <td>3</td>\n",
       "      <td>11</td>\n",
       "      <td>3</td>\n",
       "      <td>1</td>\n",
       "      <td>8</td>\n",
       "      <td>2190.0</td>\n",
       "      <td>29004.0</td>\n",
       "    </tr>\n",
       "    <tr>\n",
       "      <th>55</th>\n",
       "      <td>1</td>\n",
       "      <td>26</td>\n",
       "      <td>4</td>\n",
       "      <td>5.00</td>\n",
       "      <td>2</td>\n",
       "      <td>15</td>\n",
       "      <td>1</td>\n",
       "      <td>0</td>\n",
       "      <td>5</td>\n",
       "      <td>3672.0</td>\n",
       "      <td>27012.0</td>\n",
       "    </tr>\n",
       "    <tr>\n",
       "      <th>58</th>\n",
       "      <td>1</td>\n",
       "      <td>35</td>\n",
       "      <td>7</td>\n",
       "      <td>6.33</td>\n",
       "      <td>6</td>\n",
       "      <td>12</td>\n",
       "      <td>2</td>\n",
       "      <td>0</td>\n",
       "      <td>11</td>\n",
       "      <td>3622.0</td>\n",
       "      <td>28380.0</td>\n",
       "    </tr>\n",
       "    <tr>\n",
       "      <th>61</th>\n",
       "      <td>2</td>\n",
       "      <td>39</td>\n",
       "      <td>7</td>\n",
       "      <td>5.89</td>\n",
       "      <td>5</td>\n",
       "      <td>19</td>\n",
       "      <td>1</td>\n",
       "      <td>0</td>\n",
       "      <td>9</td>\n",
       "      <td>5707.0</td>\n",
       "      <td>30608.0</td>\n",
       "    </tr>\n",
       "    <tr>\n",
       "      <th>63</th>\n",
       "      <td>2</td>\n",
       "      <td>59</td>\n",
       "      <td>6</td>\n",
       "      <td>4.00</td>\n",
       "      <td>5</td>\n",
       "      <td>15</td>\n",
       "      <td>3</td>\n",
       "      <td>0</td>\n",
       "      <td>6</td>\n",
       "      <td>1090.0</td>\n",
       "      <td>30982.0</td>\n",
       "    </tr>\n",
       "  </tbody>\n",
       "</table>\n",
       "<p>37 rows × 11 columns</p>\n",
       "</div>"
      ],
      "text/plain": [
       "    gender  age  chronotype  bp_scale  motivation  daytime_sleepiness  \\\n",
       "1        2   20           7      6.11           4                  17   \n",
       "2        2   25           5      5.22           4                  21   \n",
       "4        2   30           1      6.67           5                  14   \n",
       "5        2   27           5      2.67           6                  12   \n",
       "6        1   27           6      5.11           6                  14   \n",
       "..     ...  ...         ...       ...         ...                 ...   \n",
       "52       1   18           7      5.56           3                  11   \n",
       "55       1   26           4      5.00           2                  15   \n",
       "58       1   35           7      6.33           6                  12   \n",
       "61       2   39           7      5.89           5                  19   \n",
       "63       2   59           6      4.00           5                  15   \n",
       "\n",
       "    self_reported_effectiveness  group  delay_nights  delay_time  sleep_time  \n",
       "1                             4      0            10      6030.0     31222.0  \n",
       "2                             2      0             7      2494.0     27880.0  \n",
       "4                             5      1             7      4149.0     30345.0  \n",
       "5                             6      1             9      2620.0     32267.0  \n",
       "6                             3      0             7      5417.0     29925.0  \n",
       "..                          ...    ...           ...         ...         ...  \n",
       "52                            3      1             8      2190.0     29004.0  \n",
       "55                            1      0             5      3672.0     27012.0  \n",
       "58                            2      0            11      3622.0     28380.0  \n",
       "61                            1      0             9      5707.0     30608.0  \n",
       "63                            3      0             6      1090.0     30982.0  \n",
       "\n",
       "[37 rows x 11 columns]"
      ]
     },
     "execution_count": 18,
     "metadata": {},
     "output_type": "execute_result"
    }
   ],
   "source": [
    "mergedDfNoNan = read_data(sleepdatafile, surveydatafile)\n",
    "mergedDfNoNan\n"
   ]
  },
  {
   "cell_type": "markdown",
   "metadata": {
    "deletable": false,
    "editable": false,
    "nbgrader": {
     "cell_type": "markdown",
     "checksum": "7b2cdb009820ce9cb6b0331ca37d1e97",
     "grade": false,
     "grade_id": "Q2-def",
     "locked": true,
     "schema_version": 3,
     "solution": false,
     "task": false
    }
   },
   "source": [
    "## Exercise 2 (5 points)\n",
    "Use the `scipy.stats` package and, respectively, the Pearson correlation test and the Kendall rank correlation test, to calculate the following correlation coefficients:\n",
    "<br></li>\n",
    "<li>\n",
    "    the Pearson correlation coefficient between bedtime procrastination scale (`bp_scale`, a personality trait) and mean time spent delaying bedtime,    \n",
    "<br></li>\n",
    "<li>\n",
    "    the Kendall rank correlation coefficient between age and mean time spent delaying bedtime,\n",
    "<br></li>\n",
    "<li>\n",
    "    the Pearson correlation coefficient between mean time spent delaying bedtime and daytime sleepiness.\n",
    "</li>\n",
    "</ul> \n",
    "\n",
    "Save them into the variables `r1`, `tau`, `r2`."
   ]
  },
  {
   "cell_type": "code",
   "execution_count": 19,
   "metadata": {
    "deletable": false,
    "nbgrader": {
     "cell_type": "code",
     "checksum": "45b3ca906497665aecd54ea51f4c8c80",
     "grade": false,
     "grade_id": "Q2-code",
     "locked": false,
     "schema_version": 3,
     "solution": true,
     "task": false
    }
   },
   "outputs": [],
   "source": [
    "def calculate_correlations(mergedDfNoNan):\n",
    "# YOUR CODE HERE\n",
    "    from scipy.stats import pearsonr, kendalltau\n",
    "    r1 = pearsonr(mergedDfNoNan['bp_scale'], mergedDfNoNan['delay_time'])\n",
    "    tau = kendalltau(mergedDfNoNan['age'], mergedDfNoNan['delay_time'])\n",
    "    r2 = pearsonr(mergedDfNoNan['daytime_sleepiness'], mergedDfNoNan['delay_time'])\n",
    "    return (r1[0], r1[1], tau[0], tau[1], r2[0], r2[1])\n",
    "# YOUR CODE ENDS HERE"
   ]
  },
  {
   "cell_type": "code",
   "execution_count": 20,
   "metadata": {
    "deletable": false,
    "editable": false,
    "nbgrader": {
     "cell_type": "code",
     "checksum": "0e6faf0ea63413a7d2b6e8998dba48fe",
     "grade": true,
     "grade_id": "Q2-check",
     "locked": true,
     "points": 5,
     "schema_version": 3,
     "solution": false,
     "task": false
    }
   },
   "outputs": [
    {
     "name": "stdout",
     "output_type": "stream",
     "text": [
      "Correlation tests:\n",
      "The value of the test statistic is: 0.5419084774884433\n",
      "The p-value is: 0.0005317941417113258 \n",
      "\n",
      "The value of the test statistic is: -0.13579164039866481\n",
      "The p-value is: 0.2431893202869816 \n",
      "\n",
      "The value of the test statistic is: 0.020065081260429163\n",
      "The p-value is: 0.9061676951703262 \n",
      "\n"
     ]
    }
   ],
   "source": [
    "r1, pvalue1, tau, pvalue2, r2, pvalue3 = calculate_correlations(mergedDfNoNan)\n",
    "\n",
    "statistics = [r1,tau,r2]\n",
    "pvalues = [pvalue1, pvalue2, pvalue3]\n",
    "\n",
    "print(\"Correlation tests:\")\n",
    "for (statistic, pvalue) in zip(statistics, pvalues):\n",
    "    print('The value of the test statistic is:',statistic)\n",
    "    print('The p-value is:', pvalue,'\\n')\n"
   ]
  },
  {
   "cell_type": "markdown",
   "metadata": {
    "deletable": false,
    "editable": false,
    "nbgrader": {
     "cell_type": "markdown",
     "checksum": "9ed1213a41044aafef3c3f18291d7532",
     "grade": false,
     "grade_id": "Q3-def",
     "locked": true,
     "schema_version": 3,
     "solution": false,
     "task": false
    }
   },
   "source": [
    "## Exercise 3 (15 points)\n",
    "Use the `scipy.stats` package to determine whether there are significant differences (at 5\\% significance level) between the experimental group and the control group in terms of:\n",
    "<br></li>\n",
    "<li>\n",
    "    the number of nights participants delayed their bedtime,    \n",
    "<br></li>\n",
    "<li>\n",
    "    the time participants spent in bed each night,\n",
    "<br></li>\n",
    "<li>\n",
    "    the mean time participants spent delaying their bedtime.\n",
    "</li>\n",
    "</ul> \n",
    "\n",
    "Use the t-test or the Wilcoxon rank-sum test to reach a conclusion and use knowledge gained in the courses Statistics and Statistical Data Analysis to determine which statistical test is appropriate. Save the conclusions - either the string 'significant difference' or 'no significant difference' - into the variables `dif1`, `dif2`, `dif3`.\n",
    "\n",
    "\\* Note that in the final assignment you are expected to explicitly motivate the choice of an appropriate test, in this exercise you do not have to."
   ]
  },
  {
   "cell_type": "code",
   "execution_count": 21,
   "metadata": {
    "deletable": false,
    "nbgrader": {
     "cell_type": "code",
     "checksum": "972867290c99bbb5a170e3ad7ff93a87",
     "grade": false,
     "grade_id": "Q3-code",
     "locked": false,
     "schema_version": 3,
     "solution": true,
     "task": false
    }
   },
   "outputs": [
    {
     "name": "stdout",
     "output_type": "stream",
     "text": [
      "Shapiro Delay_Nights 1: (0.9500356912612915, 0.4570852518081665)\n",
      "P-value = 0.382 > 0.05, therefore cannot reject H0 of normality \n",
      "\n",
      "Shapiro Delay_Nights 0: (0.9509727954864502, 0.3820979595184326)\n",
      "P-value = 0.179 > 0.05, therefore cannot reject H0 of normality \n",
      "\n",
      "Conclude that Delay_Night data sets NORMAL\n",
      "\n",
      "Shapiro Sleep_Time 1: (0.9720203280448914, 0.8527926802635193)\n",
      "P-value = 0.420 > 0.05, therefore cannot reject H0 of normality \n",
      "\n",
      "Shapiro Sleep_Time 0: (0.9605194330215454, 0.5542781949043274)\n",
      "P-value = 0.884 > 0.05, therefore cannot reject H0 of normality \n",
      "\n",
      "Conclude that Sleep_Time data sets NORMAL\n",
      "\n",
      "Shapiro Delay_Time 1: (0.8645347356796265, 0.018007749691605568)\n",
      "P-value = 0.157 > 0.05, therefore cannot reject H0 of normality \n",
      "\n",
      "Shapiro Delay_Time 0: (0.9450881481170654, 0.2986033856868744)\n",
      "P-value = 0.049 < 0.05, therefore REJECT H0 of normality \n",
      "\n",
      "Conclude that Delay_Time data sets NOT NORMAL\n",
      "\n",
      "Levene Delay_Nights: LeveneResult(statistic=2.872257451931228, pvalue=0.09899954619201573)\n",
      "P-value = 0.242 > 0.05, therefore cannot reject H0 of equal variances\n",
      "Conclude that Delay_Night Group 0 and 1 conform to the variance criterion \n",
      "\n",
      "Levene Sleep_Time: LeveneResult(statistic=0.2851206123468923, pvalue=0.5967398802449196)\n",
      "P-value = 0.191 > 0.05, therefore cannot reject H0 of equal variances\n",
      "Conclude that Sleep_Time Group 0 and 1 conform to the variance criterion \n",
      "\n",
      "Levene Delay_Time: LeveneResult(statistic=1.4205213437965019, pvalue=0.2413366496227108)\n",
      "P-value = 0.732 > 0.05, therefore cannot reject H0 of equal variances\n",
      "Conclude that Delay_Time Group 0 and 1 conform to the variance criterion\n"
     ]
    }
   ],
   "source": [
    "def perform_tests(mergedDfNoNan):\n",
    "# YOUR CODE HERE\n",
    "    dif1 = stats.ttest_ind(mergedDfNoNan[mergedDfNoNan.group.eq(1)]['delay_nights'], mergedDfNoNan[mergedDfNoNan.group.eq(0)]['delay_nights'])\n",
    "    # For Delay_Nights we select T-test as the data is normally distributed and variances are equal\n",
    "    print(dif1)\n",
    "    print('''pvalue = 0.777 > 0.05: At the 5% significance level cannot reject H0 of equal average delay in bedtime \\n''')\n",
    "    \n",
    "    dif2 = stats.ttest_ind(mergedDfNoNan[mergedDfNoNan.group.eq(1)]['sleep_time'], mergedDfNoNan[mergedDfNoNan.group.eq(0)]['sleep_time'])\n",
    "    # For Sleep_Time we select T-test as the data is normally distributed and variances are equal\n",
    "    print(dif2)\n",
    "    print('''pvalue = 0.583 > 0.05: At the 5% significance level cannot reject H0 of equal average time spent in bed \\n''')\n",
    "    \n",
    "    dif3 = stats.ranksums(mergedDfNoNan[mergedDfNoNan.group.eq(1)]['delay_time'], mergedDfNoNan[mergedDfNoNan.group.eq(0)]['delay_time'])\n",
    "    # For Delay_Time we select the Wilcox Rank-Sum Test as the data is not normally distributed and variance of groups is equal\n",
    "    print(dif3)\n",
    "    print('''pvalue = 0.155 > 0.05: At the 5% significance level cannot reject H0 that the mean time participants spent \n",
    "    delaying their bedtime is drawn from the same distribution \\n''')\n",
    "    \n",
    "    dif1 = 'no significant difference' \n",
    "    dif2 = 'no significant difference'\n",
    "    dif3 = 'no significant difference'\n",
    "    \n",
    "    return dif1, dif2, dif3\n",
    "\n",
    "# TESTS CONDUCTED TO SELECT STATISTICAL TEST:\n",
    "# Shapiro-Wilks test for normality\n",
    "\n",
    "# Null hypothesis: Population is normally distributed\n",
    "# If p-value < 0.05 then H0 is rejected and evidence that the data are not normally distributed\n",
    "\n",
    "shapiro_dn_1 = stats.shapiro(mergedDfNoNan[mergedDfNoNan.group.eq(1)]['delay_nights'])\n",
    "shapiro_dn_0 = stats.shapiro(mergedDfNoNan[mergedDfNoNan.group.eq(0)]['delay_nights'])\n",
    "\n",
    "print (\"Shapiro Delay_Nights 1:\", shapiro_dn_1)\n",
    "print (\"P-value = 0.382 > 0.05, therefore cannot reject H0 of normality \\n\")\n",
    "print (\"Shapiro Delay_Nights 0:\", shapiro_dn_0)\n",
    "print (\"P-value = 0.179 > 0.05, therefore cannot reject H0 of normality \\n\")\n",
    "print (\"Conclude that Delay_Night data sets NORMAL\\n\")\n",
    "\n",
    "shapiro_st_1 = stats.shapiro(mergedDfNoNan[mergedDfNoNan.group.eq(1)]['sleep_time'])\n",
    "shapiro_st_0 = stats.shapiro(mergedDfNoNan[mergedDfNoNan.group.eq(0)]['sleep_time'])\n",
    "\n",
    "print (\"Shapiro Sleep_Time 1:\", shapiro_st_1)\n",
    "print (\"P-value = 0.420 > 0.05, therefore cannot reject H0 of normality \\n\")\n",
    "print (\"Shapiro Sleep_Time 0:\", shapiro_st_0)\n",
    "print (\"P-value = 0.884 > 0.05, therefore cannot reject H0 of normality \\n\")\n",
    "print (\"Conclude that Sleep_Time data sets NORMAL\\n\")\n",
    "\n",
    "shapiro_dt_1 = stats.shapiro(mergedDfNoNan[mergedDfNoNan.group.eq(1)]['delay_time'])\n",
    "shapiro_dt_0 = stats.shapiro(mergedDfNoNan[mergedDfNoNan.group.eq(0)]['delay_time'])\n",
    "\n",
    "print (\"Shapiro Delay_Time 1:\", shapiro_dt_1)\n",
    "print (\"P-value = 0.157 > 0.05, therefore cannot reject H0 of normality \\n\")\n",
    "print (\"Shapiro Delay_Time 0:\", shapiro_dt_0) \n",
    "print (\"P-value = 0.049 < 0.05, therefore REJECT H0 of normality \\n\")\n",
    "print (\"Conclude that Delay_Time data sets NOT NORMAL\\n\")\n",
    "\n",
    "# Levene test for equality of variances\n",
    "# Null hypothesis: All input samples are from populations with equal variances.\n",
    "# If p-value < 0.05 then H0 is rejected and evidence that the data do not have equal variances\n",
    "\n",
    "levene_dn = stats.levene(mergedDfNoNan[mergedDfNoNan.group.eq(1)]['delay_nights'], mergedDfNoNan[mergedDfNoNan.group.eq(0)]['delay_nights'])\n",
    "\n",
    "print (\"Levene Delay_Nights:\", levene_dn)\n",
    "print (\"P-value = 0.242 > 0.05, therefore cannot reject H0 of equal variances\")\n",
    "print (\"Conclude that Delay_Night Group 0 and 1 conform to the variance criterion \\n\")\n",
    "\n",
    "levene_st = stats.levene(mergedDfNoNan[mergedDfNoNan.group.eq(1)]['sleep_time'], mergedDfNoNan[mergedDfNoNan.group.eq(0)]['sleep_time'])\n",
    "\n",
    "print (\"Levene Sleep_Time:\", levene_st)\n",
    "print (\"P-value = 0.191 > 0.05, therefore cannot reject H0 of equal variances\")\n",
    "print (\"Conclude that Sleep_Time Group 0 and 1 conform to the variance criterion \\n\")\n",
    "\n",
    "levene_dt = stats.levene(mergedDfNoNan[mergedDfNoNan.group.eq(1)]['delay_time'], mergedDfNoNan[mergedDfNoNan.group.eq(0)]['delay_time'])\n",
    "\n",
    "print (\"Levene Delay_Time:\", levene_dt)\n",
    "print (\"P-value = 0.732 > 0.05, therefore cannot reject H0 of equal variances\")\n",
    "print (\"Conclude that Delay_Time Group 0 and 1 conform to the variance criterion\")\n",
    "    \n",
    "# YOUR CODE ENDS HERE"
   ]
  },
  {
   "cell_type": "code",
   "execution_count": 22,
   "metadata": {
    "deletable": false,
    "editable": false,
    "nbgrader": {
     "cell_type": "code",
     "checksum": "acd2d3e3c25b19620f4075769f2d56b1",
     "grade": true,
     "grade_id": "Q3-check",
     "locked": true,
     "points": 15,
     "schema_version": 3,
     "solution": false,
     "task": false
    }
   },
   "outputs": [
    {
     "name": "stdout",
     "output_type": "stream",
     "text": [
      "Ttest_indResult(statistic=0.28114146423779013, pvalue=0.7802573236765942)\n",
      "pvalue = 0.777 > 0.05: At the 5% significance level cannot reject H0 of equal average delay in bedtime \n",
      "\n",
      "Ttest_indResult(statistic=0.5140990099089549, pvalue=0.6104136708974324)\n",
      "pvalue = 0.583 > 0.05: At the 5% significance level cannot reject H0 of equal average time spent in bed \n",
      "\n",
      "RanksumsResult(statistic=-1.8590419983698017, pvalue=0.06302118559417365)\n",
      "pvalue = 0.155 > 0.05: At the 5% significance level cannot reject H0 that the mean time participants spent \n",
      "    delaying their bedtime is drawn from the same distribution \n",
      "\n",
      "The number of nights participants delayed their bedtime: no significant difference\n",
      "The time participants spent in bed each night: no significant difference\n",
      "The mean time participants spent delaying their bedtime: no significant difference\n"
     ]
    }
   ],
   "source": [
    "dif1, dif2, dif3 = perform_tests(mergedDfNoNan) \n",
    "\n",
    "print('The number of nights participants delayed their bedtime:', dif1)\n",
    "print('The time participants spent in bed each night:', dif2)\n",
    "print('The mean time participants spent delaying their bedtime:', dif3)\n"
   ]
  },
  {
   "cell_type": "markdown",
   "metadata": {
    "deletable": false,
    "editable": false,
    "nbgrader": {
     "cell_type": "markdown",
     "checksum": "2209f0368c44a76bfae304bff63a9ce1",
     "grade": false,
     "grade_id": "Q4-def",
     "locked": true,
     "schema_version": 3,
     "solution": false,
     "task": false
    }
   },
   "source": [
    "## Exercise 4 (15 points)\n",
    "Use `statsmodels.api` to build a regression model for `delay_time` on the predictors `age`, `chronotype` and `bp_scale`. Return the coefficients of the model, and the conclusion whether the model is significant by using the string 'significant' or 'not significant'.\n",
    "\n",
    "\\* Convince yourself that the basic diagnostics for this model are ok. Here not, but in the final assignment you are expected to explicitly check the diagnostics."
   ]
  },
  {
   "cell_type": "code",
   "execution_count": 23,
   "metadata": {
    "deletable": false,
    "nbgrader": {
     "cell_type": "code",
     "checksum": "6444f410960fb92e722b89d858d389b9",
     "grade": false,
     "grade_id": "Q4-code",
     "locked": false,
     "schema_version": 3,
     "solution": true,
     "task": false
    }
   },
   "outputs": [],
   "source": [
    "def regression_analysis(mergedDfNoNan):\n",
    "# YOUR CODE HERE\n",
    "    import statsmodels.formula.api as sm\n",
    "\n",
    "    results = sm.ols(formula='delay_time ~ age + chronotype + bp_scale', data=mergedDfNoNan).fit()\n",
    "    # Prob (F-statistic) (null hypothesis under this is “all the regression coefficients are equal to zero”) \n",
    "    # is small, so model is significant, Prob(Omnibus) is 2.0somethind, so it seems fine\n",
    "    return([results.params[1:][0], results.params[1:][1], results.params[1:][2]] , \"significant\")\n",
    "\n",
    "# YOUR CODE ENDS HERE"
   ]
  },
  {
   "cell_type": "code",
   "execution_count": 24,
   "metadata": {
    "deletable": false,
    "editable": false,
    "nbgrader": {
     "cell_type": "code",
     "checksum": "aa96c2bf27efa178c3d03bea8914bc98",
     "grade": true,
     "grade_id": "Q4-check",
     "locked": true,
     "points": 15,
     "schema_version": 3,
     "solution": false,
     "task": false
    }
   },
   "outputs": [
    {
     "name": "stdout",
     "output_type": "stream",
     "text": [
      "The parameters of the model are:\n",
      "[-28.826894530739082, 117.6073260763022, 744.6300226554617]\n",
      "\n",
      "The model is significant\n"
     ]
    }
   ],
   "source": [
    "parameters, significant = regression_analysis(mergedDfNoNan)\n",
    "\n",
    "print('The parameters of the model are:')\n",
    "print(parameters)\n",
    "print('\\nThe model is', significant)\n"
   ]
  },
  {
   "cell_type": "markdown",
   "metadata": {
    "deletable": false,
    "editable": false,
    "nbgrader": {
     "cell_type": "markdown",
     "checksum": "891730251d97258dcd6e56bdbe8c4a0a",
     "grade": false,
     "grade_id": "Q5-def",
     "locked": true,
     "schema_version": 3,
     "solution": false,
     "task": false
    }
   },
   "source": [
    "## Exercise 5 (15 points)\n",
    "Create three distinct, meaningful, well-crafted visualizations that either provide insight into the data, or help support your conclusions. This means creating three different kinds of plots (not three boxplots, or three scatterplots for example). Interpret and discuss your findings."
   ]
  },
  {
   "cell_type": "code",
   "execution_count": 32,
   "metadata": {
    "deletable": false,
    "nbgrader": {
     "cell_type": "code",
     "checksum": "f6b0437853dd42a029aa6614a9ab163c",
     "grade": true,
     "grade_id": "Q5-plot1",
     "locked": false,
     "points": 0,
     "schema_version": 3,
     "solution": true,
     "task": false
    }
   },
   "outputs": [
    {
     "data": {
      "text/plain": [
       "Text(0.5, 1, 'Delayed bedtime vs. Sleepiness Scale (r2)')"
      ]
     },
     "execution_count": 32,
     "metadata": {},
     "output_type": "execute_result"
    },
    {
     "data": {
      "image/png": "[encoded data removed]",
      "text/plain": [
       "<Figure size 1080x288 with 3 Axes>"
      ]
     },
     "metadata": {
      "needs_background": "light"
     },
     "output_type": "display_data"
    }
   ],
   "source": [
    "# Plot 1\n",
    "# YOUR CODE HERE\n",
    "\n",
    "fig, (ax0, ax1, ax2) = plt.subplots(1,3, figsize = [15,4], sharey = True)\n",
    "fig.tight_layout()\n",
    "fig.set_tight_layout(True)\n",
    "mergedDfNoNan.plot(x='bp_scale', y = 'delay_time', kind = 'scatter', ax = ax0, fontsize = 10)\n",
    "xlab = ax0.set_xlabel('Bedtime Procrastination Scale')\n",
    "ylab = ax0.set_ylabel('Delayed bedtime (mean time in seconds)')\n",
    "ax0.set_title('Delayed bedtime vs. BP Scale (r1)')\n",
    "\n",
    "mergedDfNoNan.plot(x = 'age', y = 'delay_time', kind = 'scatter', ax = ax1,  fontsize = 10)\n",
    "xlab = ax1.set_xlabel('Age')\n",
    "ylab = ax1.set_ylabel('Delayed bedtime (mean time in seconds)')\n",
    "ax1.set_title('Delayed bedtime vs. Age (tau)')\n",
    "\n",
    "mergedDfNoNan.plot(x = 'daytime_sleepiness', y = 'delay_time', kind = 'scatter', ax = ax2,  fontsize = 10)\n",
    "xlab = ax2.set_xlabel('Epworth Sleepiness Scale')\n",
    "ylab = ax2.set_ylabel('Delayed bedtime (mean time in seconds)')\n",
    "ax2.set_title('Delayed bedtime vs. Sleepiness Scale (r2)')\n",
    "\n",
    "# YOUR CODE ENDS HERE"
   ]
  },
  {
   "cell_type": "markdown",
   "metadata": {},
   "source": [
    "### Scatterplot interpretation\n",
    "\n",
    "The scatterplots support the fairly weak correlation results obtained in the correlation tests.<br>\n",
    "In fact, the correlation is so weak, that without the test results it would be difficult to infer correlation from the scatterplots alone. <br>\n",
    "The first scatterplot (representing r1) has a weak positive correlation. <br>\n",
    "The Pearson correlation coefficient was measured at 0.016. <br>\n",
    "What this means is that as the score on the Bedtime Procrastination Scale increases, so does the delay in bedtime.\n",
    "\n",
    "The second (tau) and third (r2) scatterplots both have a weak negative correlation. <br>\n",
    "The tau statistic was measured at -0.162. <br>\n",
    "As Age increases, the delay in bedtime decreases.\n",
    "\n",
    "In the third scatterplot (r2) the Pearson correlation coefficient was measured at -0.214. <br>\n",
    "As the score on the Epworth Sleepiness Scale increases, the delay in bedtime decreases."
   ]
  },
  {
   "cell_type": "code",
   "execution_count": 26,
   "metadata": {
    "deletable": false,
    "nbgrader": {
     "cell_type": "code",
     "checksum": "647c4e5ae5e20b41c836abdee75b948d",
     "grade": true,
     "grade_id": "Q5-plot2",
     "locked": false,
     "points": 0,
     "schema_version": 3,
     "solution": true,
     "task": false
    }
   },
   "outputs": [
    {
     "data": {
      "image/png": "[encoded data removed]",
      "text/plain": [
       "<Figure size 1296x288 with 3 Axes>"
      ]
     },
     "metadata": {
      "needs_background": "light"
     },
     "output_type": "display_data"
    }
   ],
   "source": [
    "# Plot 2\n",
    "# YOUR CODE HERE\n",
    "fig, (ax0, ax1, ax2) = plt.subplots(1,3, figsize = [18, 4])\n",
    "# Delay Nights\n",
    "dn_0 = pd.Series(mergedDfNoNan[mergedDfNoNan.group.eq(0)]['delay_nights'], name = \"Control Group\")\n",
    "dn_1 = pd.Series(mergedDfNoNan[mergedDfNoNan.group.eq(1)]['delay_nights'], name = \"Experiment Group\")\n",
    "\n",
    "dnDf = pd.concat([dn_0, dn_1], axis = 1)\n",
    "dnDf.boxplot(column = [\"Control Group\", \"Experiment Group\"], grid = False, ax = ax0)\n",
    "ax0.set_title(\"Number of nights bedtime delayed\")\n",
    "ylab = ax0.set_ylabel('Night range: 0-12')\n",
    "\n",
    "# Sleep Time\n",
    "st_0 = pd.Series(mergedDfNoNan[mergedDfNoNan.group.eq(0)]['sleep_time'], name = \"Control Group\")\n",
    "st_1 = pd.Series(mergedDfNoNan[mergedDfNoNan.group.eq(1)]['sleep_time'], name = \"Experiment Group\")\n",
    "\n",
    "stDf = pd.concat([st_0, st_1], axis = 1)\n",
    "stDf.boxplot(column = [\"Control Group\", \"Experiment Group\"], grid = False, ax = ax1)\n",
    "ax1.set_title(\"Time spent in bed each night\")\n",
    "ylab = ax1.set_ylabel('Mean time (seconds)')\n",
    "\n",
    "# Delay Time\n",
    "dt_0 = pd.Series(mergedDfNoNan[mergedDfNoNan.group.eq(0)]['delay_time'], name = \"Control Group\")\n",
    "dt_1 = pd.Series(mergedDfNoNan[mergedDfNoNan.group.eq(1)]['delay_time'], name = \"Experiment Group\")\n",
    "\n",
    "dtDf = pd.concat([dt_0, dt_1], axis = 1)\n",
    "dtDf.boxplot(column = [\"Control Group\", \"Experiment Group\"], grid = False, ax = ax2)\n",
    "ax2.set_title(\"Mean time spent delaying bedtime \")\n",
    "ylab = ax2.set_ylabel('Mean time (seconds)')\n",
    "\n",
    "# YOUR CODE ENDS HERE"
   ]
  },
  {
   "cell_type": "markdown",
   "metadata": {},
   "source": [
    "###  Boxplot interpretation\n",
    "\n",
    "<b>Number of nights bedtime delayed:</b> <br>\n",
    "The median number of nights that sleep is delayed in both groups is around 8. <br>\n",
    "There is slightly greater variability in the number of nights that bedtime is delayed in the Control Group, with one outlier.\n",
    "\n",
    "<b>Time spent in bed each night:</b> <br>\n",
    "The Control Group distribution is very wide with a great deal of variability in mean time spent in bed. <br>\n",
    "The Experiment Group looks to be more similar with less variability. <br>\n",
    "The median is pretty similar between groups between 28000 - 30000 seconds.\n",
    "\n",
    "<b>Mean time spent delaying bedtime:</b> <br>\n",
    "The Control Group distribution again shows a high level of variability and the Experiment Group as well. <br>\n",
    "The uncentred median and irregular length of the whiskers suggests more right skewness in these distributions."
   ]
  },
  {
   "cell_type": "code",
   "execution_count": 27,
   "metadata": {
    "deletable": false,
    "nbgrader": {
     "cell_type": "code",
     "checksum": "f25b0ff854192b8a0697912b52d44ebf",
     "grade": true,
     "grade_id": "Q5-plot3",
     "locked": false,
     "points": 0,
     "schema_version": 3,
     "solution": true,
     "task": false
    }
   },
   "outputs": [
    {
     "data": {
      "image/png": "[encoded data removed]",
      "text/plain": [
       "<Figure size 1152x432 with 3 Axes>"
      ]
     },
     "metadata": {
      "needs_background": "light"
     },
     "output_type": "display_data"
    }
   ],
   "source": [
    "# Plot 3\n",
    "# YOUR CODE HERE\n",
    "fig, (ax0, ax1, ax2) = plt.subplots(1,3, figsize = [16, 6])\n",
    "fig.tight_layout()\n",
    "fig.set_tight_layout(True)\n",
    "\n",
    "#Delay Nights\n",
    "dnDf = pd.concat([dn_0, dn_1], axis = 1)\n",
    "\n",
    "dnDf.plot.kde(ax=ax0, legend=False, title= \"Number of nights bedtime delayed\", fontsize = 11)\n",
    "dnDf.plot.hist(density=True, ax=ax0)\n",
    "ylab = ax0.set_ylabel('Probability', fontsize = 11)\n",
    "xlab = ax0.set_xlabel('Number of nights', fontsize = 11)\n",
    "\n",
    "# Sleep Time\n",
    "stDf = pd.concat([st_0, st_1], axis = 1)\n",
    "\n",
    "stDf.plot.kde(ax=ax1, legend=False, title='Time spent in bed each night', fontsize = 11)\n",
    "stDf.plot.hist(density=True, ax=ax1)\n",
    "ylab = ax1.set_ylabel('Probability', fontsize = 11)\n",
    "xlab = ax1.set_xlabel('Mean time (seconds)', fontsize = 11)\n",
    "\n",
    "# Delay Time\n",
    "dtDf = pd.concat([dt_0, dt_1], axis = 1)\n",
    "\n",
    "dtDf.plot.kde(ax=ax2, legend=False, title='Mean time spent delaying bedtime', fontsize = 11)\n",
    "dtDf.plot.hist(density=True, ax=ax2)\n",
    "ylab = ax2.set_ylabel('Probability', fontsize = 11)\n",
    "xlab = ax2.set_xlabel('Mean time (seconds)', fontsize = 11)\n",
    "# YOUR CODE ENDS HERE"
   ]
  },
  {
   "cell_type": "markdown",
   "metadata": {},
   "source": [
    "### Histogram interpretation\n",
    "\n",
    "Given the small sample sizes, caution is taken in making inferences about the shape of the population being sampled from these histograms alone. <br>\n",
    "However, given we have the results of the Shapiro-Wilks test for normality, we can see that these\n",
    "histograms support those results. <br>\n",
    "\n",
    "The first two histograms from the right appear to show more symmetry and normality. In particular the Experiment Group. <br>\n",
    "While the far right histogram is right skewed. This is further motivates the choice of the Wilcoxon Rank-Sum test to measure these distributions.  "
   ]
  },
  {
   "cell_type": "markdown",
   "metadata": {
    "deletable": false,
    "editable": false,
    "nbgrader": {
     "cell_type": "markdown",
     "checksum": "285a8d54c6bdbf76a88f9bf03f621524",
     "grade": false,
     "grade_id": "part2",
     "locked": true,
     "schema_version": 3,
     "solution": false,
     "task": false
    }
   },
   "source": [
    "# Part 2\n",
    "The goal of this part of the assignment is to provide you with practice in implementing MapReduce in Python. Using the `map_reduce_hue.csv` dataset, you will implement two simple MapReduce algorithms.\n",
    "\n",
    "<a href=\"https://towardsdatascience.com/a-beginners-introduction-into-mapreduce-2c912bb5e6ac\">First read this webpage!</a>\n",
    "\n",
    "In the ideal situation, we would have access to multiple nodes in the cloud to test our MapReduce functions. Instead, we are going to simulate such an environment in this notebook. We are going to feed the Map function a line of the file in each call (as if this is running on a node in the cloud). The Map function will print the result of the computation to the standard output. When all Map function have processed all lines of the file, the Reduce function is going to collect the output of the Map functions (all the intermediate results that were printed). We do this line by line as well as if the output of a Map function is sent to a Reduce function directly. The Reduce function will then transform the intermediate results to obtain the final answer that one wants to compute. \n",
    "\n",
    "Since the Map function is using the `print()` function to communicate to the Reduce function, we use a smart trick! We store the standard output in a variable, and replace it by a variable. Whenever the Map function using the `print()` function, it is added in a string to the variable. After all Map functions are finished, we have collected all the output and change back to the original standard output. Now, the reduce function can use the variable to process the output of the Map functions. Note that since the Reduce function is fed line by line, the function might need to use global variables instead of local variable to store the information."
   ]
  },
  {
   "cell_type": "markdown",
   "metadata": {
    "deletable": false,
    "editable": false,
    "nbgrader": {
     "cell_type": "markdown",
     "checksum": "bdc7d77c62d2eb010cd88638efa59baa",
     "grade": false,
     "grade_id": "Q6-def",
     "locked": true,
     "schema_version": 3,
     "solution": false,
     "task": false
    }
   },
   "source": [
    "## Exercise 6 (15 points)\n",
    "Write a MapReduce algorithm that counts and outputs the total number of times the fitness value is strictly higher than 50. The expected output is a single integer. In this case, the Map function should print relevant information related to the line that be used by the Reduce function. The Reduce function should read all these values, and print the total count. In this case, it might be necessary to have a global variable `totalCount`, which indicates the current count of the number of relevant lines."
   ]
  },
  {
   "cell_type": "code",
   "execution_count": 28,
   "metadata": {
    "deletable": false,
    "nbgrader": {
     "cell_type": "code",
     "checksum": "2edc946d4b2cef1cee91102328fe6276",
     "grade": false,
     "grade_id": "Q6-map",
     "locked": false,
     "schema_version": 3,
     "solution": true,
     "task": false
    }
   },
   "outputs": [],
   "source": [
    "def mapper1(line):\n",
    "# YOUR CODE HERE\n",
    "    values = line.split(',')\n",
    "    for index,value in enumerate(values):\n",
    "        if index == 5:\n",
    "            print ('\\t{}\\t{}'.format(value, 1))\n",
    "# YOUR CODE ENDS HERE"
   ]
  },
  {
   "cell_type": "code",
   "execution_count": 29,
   "metadata": {
    "deletable": false,
    "nbgrader": {
     "cell_type": "code",
     "checksum": "484b4cab36d9c3f462c69c5e5f337ca9",
     "grade": false,
     "grade_id": "Q6-reduce",
     "locked": false,
     "schema_version": 3,
     "solution": true,
     "task": false
    }
   },
   "outputs": [],
   "source": [
    "def reducer1(line):\n",
    "# YOUR CODE HERE\n",
    "    global totalCount\n",
    "    if not line:\n",
    "        print(totalCount)\n",
    "        totalCount = 0\n",
    "    else:\n",
    "        line = line.strip()\n",
    "        listOfElements = line.split('\\t')\n",
    "        listOfElements = [int(element) if element.isdigit() else float(element) for element in listOfElements if element]\n",
    "        totalCount += len([x for x in listOfElements if x > 50])        \n",
    "# YOUR CODE ENDS HERE"
   ]
  },
  {
   "cell_type": "code",
   "execution_count": 30,
   "metadata": {
    "deletable": false,
    "editable": false,
    "nbgrader": {
     "cell_type": "code",
     "checksum": "15652d858ace2327c619d96f5aa5b063",
     "grade": false,
     "grade_id": "Q6-code",
     "locked": true,
     "schema_version": 3,
     "solution": false,
     "task": false
    }
   },
   "outputs": [],
   "source": [
    "def mapreduce1(data):    \n",
    "    old_stdout = sys.stdout\n",
    "    mystdout = StringIO()\n",
    "    sys.stdout = mystdout\n",
    "\n",
    "    with open(data) as file:\n",
    "        for index, line in enumerate(file):\n",
    "            if index == 0:\n",
    "                continue\n",
    "            line = line.strip()\n",
    "            mapper1(line)\n",
    "        mapper1(',,,,,,,')\n",
    "        \n",
    "        sys.stdout = old_stdout\n",
    "        mapper_lines = mystdout.getvalue().split(\"\\n\")\n",
    "        mystdout.close()\n",
    "\n",
    "        for index, line in enumerate(sorted(mapper_lines)):\n",
    "            if index == 0:\n",
    "                continue\n",
    "            reducer1(line)\n",
    "        reducer1('')"
   ]
  },
  {
   "cell_type": "code",
   "execution_count": 31,
   "metadata": {
    "deletable": false,
    "editable": false,
    "nbgrader": {
     "cell_type": "code",
     "checksum": "da421707f9818b415b437d2d2cb8432a",
     "grade": true,
     "grade_id": "Q6-check",
     "locked": true,
     "points": 15,
     "schema_version": 3,
     "solution": false,
     "task": false
    }
   },
   "outputs": [
    {
     "name": "stdout",
     "output_type": "stream",
     "text": [
      "225\n"
     ]
    }
   ],
   "source": [
    "totalCount = 0\n",
    "mapreduce1('map_reduce_hue.csv')\n"
   ]
  },
  {
   "cell_type": "markdown",
   "metadata": {
    "deletable": false,
    "editable": false,
    "nbgrader": {
     "cell_type": "markdown",
     "checksum": "93f49d815dff84a543e5d054eb6a621d",
     "grade": false,
     "grade_id": "Q7-def",
     "locked": true,
     "schema_version": 3,
     "solution": false,
     "task": false
    }
   },
   "source": [
    "## Exercise 7 (15 points)\n",
    "Write a MapReduce algorithm that calculates the mean fitness per participant. Do not use any statistical packages to calculate the mean. The expected output is one line per participant, containing the participants ID and the mean of his or her fitness, separated by a tab (\"\\t\"). The outputted lines do not have to be sorted. \n",
    "\n",
    "The Map function in this case is more complicated than in the previous case. Think about what information the Map function should give the Reduce function. In this case, it is necessary to have at least the variable `currentID` (indicating which ID you are processing) as global variable"
   ]
  },
  {
   "cell_type": "code",
   "execution_count": 32,
   "metadata": {
    "deletable": false,
    "nbgrader": {
     "cell_type": "code",
     "checksum": "dac3c76d3e821cb8fb28c0b94112c6c1",
     "grade": false,
     "grade_id": "Q7-map",
     "locked": false,
     "schema_version": 3,
     "solution": true,
     "task": false
    }
   },
   "outputs": [],
   "source": [
    "def mapper2(line):\n",
    "# YOUR CODE HERE\n",
    "    global currentID\n",
    "    user_index = 1\n",
    "    finitness_index = 5\n",
    "    values = line.split(',')\n",
    "    if \",,,,\" not in line:\n",
    "        print ('{}\\t{}'.format(values[user_index].strip(\"\\\"\"), values[finitness_index]))\n",
    "    else:\n",
    "        currentID = ''\n",
    "        \n",
    "# YOUR CODE ENDS HERE"
   ]
  },
  {
   "cell_type": "code",
   "execution_count": 36,
   "metadata": {
    "deletable": false,
    "nbgrader": {
     "cell_type": "code",
     "checksum": "f7aad3944423efd90f596bad672ad67e",
     "grade": false,
     "grade_id": "Q7-reduce",
     "locked": false,
     "schema_version": 3,
     "solution": true,
     "task": false
    }
   },
   "outputs": [],
   "source": [
    "def reducer2(line):\n",
    "# YOUR CODE HERE\n",
    "    global currentID, values\n",
    "    \n",
    "    def mean(l):\n",
    "        return sum(l)/len(l)\n",
    "    \n",
    "    if not line:\n",
    "        print(\"{}\\t{}\".format(currentID, mean(values)))\n",
    "        currentID=''\n",
    "        values=[]\n",
    "    else:\n",
    "        line = line.strip(\"\")\n",
    "        elements = line.split('\\t')\n",
    "        nextID, value = elements[0], elements[1]\n",
    "        if currentID == nextID:\n",
    "            values.append(float(value))\n",
    "        else:\n",
    "            if currentID:\n",
    "                print(\"{}\\t{}\".format(currentID, mean(values)))\n",
    "            values = [float(value)]\n",
    "            currentID = nextID.strip()\n",
    "            \n",
    "    \n",
    "# YOUR CODE ENDS HERE"
   ]
  },
  {
   "cell_type": "code",
   "execution_count": 37,
   "metadata": {
    "deletable": false,
    "editable": false,
    "nbgrader": {
     "cell_type": "code",
     "checksum": "4a5bf7b9ff57eb73d92fa7e0683942be",
     "grade": false,
     "grade_id": "Q7-code",
     "locked": true,
     "schema_version": 3,
     "solution": false,
     "task": false
    }
   },
   "outputs": [],
   "source": [
    "def mapreduce2(data):    \n",
    "    old_stdout = sys.stdout\n",
    "    mystdout = StringIO()\n",
    "    sys.stdout = mystdout\n",
    "\n",
    "    with open(data) as file:\n",
    "        for index, line in enumerate(file):\n",
    "            if index == 0:\n",
    "                continue\n",
    "            line = line.strip()\n",
    "            mapper2(line)\n",
    "        mapper2(',,,,,,,')\n",
    "        \n",
    "        sys.stdout = old_stdout\n",
    "        mapper_lines = mystdout.getvalue().split(\"\\n\")\n",
    "        mystdout.close()\n",
    "\n",
    "        for index, line in enumerate(sorted(mapper_lines)):\n",
    "            if index == 0:\n",
    "                continue\n",
    "            reducer2(line)\n",
    "        reducer2('')"
   ]
  },
  {
   "cell_type": "code",
   "execution_count": 38,
   "metadata": {
    "deletable": false,
    "editable": false,
    "nbgrader": {
     "cell_type": "code",
     "checksum": "387af6f9046c62a98a9087cab84bc1b4",
     "grade": true,
     "grade_id": "Q7-check",
     "locked": true,
     "points": 15,
     "schema_version": 3,
     "solution": false,
     "task": false
    }
   },
   "outputs": [
    {
     "name": "stdout",
     "output_type": "stream",
     "text": [
      "1\t59.61538461538461\n",
      "10\t63.92307692307692\n",
      "12\t67.25\n",
      "18\t67.61538461538461\n",
      "19\t48.375\n",
      "20\t64.07692307692308\n",
      "22\t66.38461538461539\n",
      "24\t50.0\n",
      "26\t48.0\n",
      "29\t53.666666666666664\n",
      "30\t64.45454545454545\n",
      "31\t56.142857142857146\n",
      "32\t56.625\n",
      "34\t35.84615384615385\n",
      "36\t46.92307692307692\n",
      "37\t18.5\n",
      "38\t46.642857142857146\n",
      "39\t54.30769230769231\n",
      "41\t46.61538461538461\n",
      "42\t28.307692307692307\n",
      "44\t67.07692307692308\n",
      "45\t52.92857142857143\n",
      "51\t62.53846153846154\n",
      "52\t52.214285714285715\n",
      "53\t41.666666666666664\n",
      "55\t55.23076923076923\n",
      "58\t59.785714285714285\n",
      "60\t79.0\n",
      "61\t35.30769230769231\n",
      "63\t43.69230769230769\n",
      "6789\t52.0\n",
      "70\t70.0\n",
      "9\t59.0\n",
      "9996\t42.75\n",
      "9998\t44.0\n",
      "9999\t52.4\n"
     ]
    }
   ],
   "source": [
    "currentID = ''\n",
    "mapreduce2('map_reduce_hue.csv')\n"
   ]
  },
  {
   "cell_type": "code",
   "execution_count": null,
   "metadata": {},
   "outputs": [],
   "source": []
  }
 ],
 "metadata": {
  "kernelspec": {
   "display_name": "Python 3",
   "language": "python",
   "name": "python3"
  },
  "language_info": {
   "codemirror_mode": {
    "name": "ipython",
    "version": 3
   },
   "file_extension": ".py",
   "mimetype": "text/x-python",
   "name": "python",
   "nbconvert_exporter": "python",
   "pygments_lexer": "ipython3",
   "version": "3.8.2"
  }
 },
 "nbformat": 4,
 "nbformat_minor": 4
}
